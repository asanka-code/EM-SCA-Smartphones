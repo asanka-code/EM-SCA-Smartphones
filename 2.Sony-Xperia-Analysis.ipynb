{
 "cells": [
  {
   "cell_type": "markdown",
   "metadata": {},
   "source": [
    "## Best result: 88.67%\n",
    "\n",
    "### Things to do\n",
    "\n",
    "- reduced the train size, i.e., adjusted train test split. - DONE\n",
    "- Increase the number of training samples set to 10,000 - DONE\n",
    "- reduce learning rate (from 0.001 to 0.0001) the increased back to 0.0005 - DONE\n",
    "- add extra layers to the network - NOW\n",
    "- increase the feature vector size"
   ]
  },
  {
   "cell_type": "markdown",
   "metadata": {},
   "source": [
    "### A Note on Tuning Hyperparameters\n",
    "\n",
    "The following are the hypterparameters I can tune with.\n",
    "- Number of samples per class.\n",
    "- Learning rate\n",
    "- FFT size (this may force us to change the network architecture, i.e., number of layers and number of nodes per layer.)\n",
    "- FFT overlap\n",
    "- Epoch size"
   ]
  },
  {
   "cell_type": "markdown",
   "metadata": {},
   "source": [
    "### Importing Libraries"
   ]
  },
  {
   "cell_type": "code",
   "execution_count": 1,
   "metadata": {},
   "outputs": [],
   "source": [
    "import numpy as np\n",
    "import pandas as pd\n",
    "from scipy import signal\n",
    "import matplotlib.pyplot as plt\n",
    "import tensorflow as tf\n",
    "from tensorflow import keras\n",
    "from sklearn.model_selection import train_test_split\n",
    "from sklearn.preprocessing import MinMaxScaler\n",
    "from sklearn.metrics import confusion_matrix\n",
    "from sklearn.metrics import classification_report"
   ]
  },
  {
   "cell_type": "markdown",
   "metadata": {},
   "source": [
    "### Functions"
   ]
  },
  {
   "cell_type": "code",
   "execution_count": 2,
   "metadata": {},
   "outputs": [],
   "source": [
    "def getData(cfileName):\n",
    "    \"\"\"\n",
    "    Given a name of a *.cfile, this function extracts the interleaved\n",
    "    Inphase-Quadrature data samples and convert it into a numpy array of complex\n",
    "    data elements. *.cfile format has interleaved I and Q samples where each sample\n",
    "    is a float32 type. GNURadio Companion (GRC) scripts output data into a file\n",
    "    though a file sink block in this format.\n",
    "    Read more in SDR data types: https://github.com/miek/inspectrum\n",
    "    \"\"\"\n",
    "    # Read the *.cfile which has each element in float32 format.\n",
    "    data = np.fromfile(cfileName, dtype=\"float32\")\n",
    "    # Take each consecutive interleaved I sample and Q sample to create a single complex element.\n",
    "    data = data[0::2] + 1j*data[1::2]\n",
    "    #print(\"data type=\", type(data))\n",
    "    # Return the complex numpy array.\n",
    "    return data"
   ]
  },
  {
   "cell_type": "markdown",
   "metadata": {},
   "source": [
    "### Loading an EM Trace and Plotting"
   ]
  },
  {
   "cell_type": "markdown",
   "metadata": {},
   "source": [
    "#### Settings:"
   ]
  },
  {
   "cell_type": "code",
   "execution_count": 3,
   "metadata": {},
   "outputs": [],
   "source": [
    "# number of samples per class\n",
    "num_samp_per_class = 10000\n",
    "\n",
    "# FFT size for the STFT operation (which is same as the feature vector size)\n",
    "fft_size = feature_vector_size = 2048 #1024\n",
    "\n",
    "# number of overlapping samples for the STFT operation\n",
    "fft_overlap = 256"
   ]
  },
  {
   "cell_type": "code",
   "execution_count": 4,
   "metadata": {},
   "outputs": [],
   "source": [
    "labels = [\"calender-app\", \"camera-photo\", \"camera-video\", \"email-app\", \"gallary-app\"\n",
    "          , \"home-screen\", \"idle-device\", \"phone-app\", \"sms-app\", \"web-browser\"]"
   ]
  },
  {
   "cell_type": "markdown",
   "metadata": {},
   "source": [
    "#### Preparing the Data of Class 0"
   ]
  },
  {
   "cell_type": "code",
   "execution_count": 5,
   "metadata": {},
   "outputs": [],
   "source": [
    "class_label = 0"
   ]
  },
  {
   "cell_type": "code",
   "execution_count": 6,
   "metadata": {},
   "outputs": [],
   "source": [
    "data = getData(\"/home/asanka/Desktop/smartphone-EM-dataset-2020-11-23/sony-xperia/calandar-app.cfile\")"
   ]
  },
  {
   "cell_type": "code",
   "execution_count": 7,
   "metadata": {},
   "outputs": [
    {
     "name": "stderr",
     "output_type": "stream",
     "text": [
      "/home/asanka/miniconda3/lib/python3.7/site-packages/scipy/signal/spectral.py:1812: UserWarning: Input data is complex, switching to return_onesided=False\n",
      "  warnings.warn('Input data is complex, switching to '\n"
     ]
    },
    {
     "name": "stdout",
     "output_type": "stream",
     "text": [
      "2048\n",
      "40959\n",
      "(2048, 40959)\n"
     ]
    }
   ],
   "source": [
    "f, t, Zxx = signal.stft(data, fs=20e6, nperseg=fft_size, noverlap=fft_overlap)\n",
    "print(len(f))\n",
    "print(len(t))\n",
    "print(Zxx.shape)"
   ]
  },
  {
   "cell_type": "code",
   "execution_count": 8,
   "metadata": {},
   "outputs": [],
   "source": [
    "del data"
   ]
  },
  {
   "cell_type": "code",
   "execution_count": 9,
   "metadata": {},
   "outputs": [],
   "source": [
    "Zxx = Zxx.transpose()"
   ]
  },
  {
   "cell_type": "code",
   "execution_count": 10,
   "metadata": {},
   "outputs": [],
   "source": [
    "X = Zxx[:num_samp_per_class]\n",
    "y = np.full(num_samp_per_class, class_label)\n",
    "del Zxx"
   ]
  },
  {
   "cell_type": "code",
   "execution_count": 11,
   "metadata": {},
   "outputs": [
    {
     "name": "stdout",
     "output_type": "stream",
     "text": [
      "(10000, 2048)\n",
      "(10000,)\n"
     ]
    }
   ],
   "source": [
    "print(X.shape)\n",
    "print(y.shape)"
   ]
  },
  {
   "cell_type": "markdown",
   "metadata": {},
   "source": [
    "#### Preparing the Data of Class 1"
   ]
  },
  {
   "cell_type": "code",
   "execution_count": 12,
   "metadata": {},
   "outputs": [],
   "source": [
    "class_label = 1"
   ]
  },
  {
   "cell_type": "code",
   "execution_count": 13,
   "metadata": {},
   "outputs": [],
   "source": [
    "data = getData(\"/home/asanka/Desktop/smartphone-EM-dataset-2020-11-23/sony-xperia/camera-photo.cfile\")"
   ]
  },
  {
   "cell_type": "code",
   "execution_count": 14,
   "metadata": {},
   "outputs": [
    {
     "name": "stdout",
     "output_type": "stream",
     "text": [
      "2048\n",
      "31453\n",
      "(2048, 31453)\n"
     ]
    }
   ],
   "source": [
    "f, t, Zxx = signal.stft(data, fs=20e6, nperseg=fft_size, noverlap=fft_overlap)\n",
    "print(len(f))\n",
    "print(len(t))\n",
    "print(Zxx.shape)"
   ]
  },
  {
   "cell_type": "code",
   "execution_count": 15,
   "metadata": {},
   "outputs": [],
   "source": [
    "del data"
   ]
  },
  {
   "cell_type": "code",
   "execution_count": 16,
   "metadata": {},
   "outputs": [],
   "source": [
    "Zxx = Zxx.transpose()"
   ]
  },
  {
   "cell_type": "code",
   "execution_count": 17,
   "metadata": {},
   "outputs": [],
   "source": [
    "X = np.concatenate((X, Zxx[:num_samp_per_class]), axis=0) \n",
    "y = np.concatenate((y, np.full(num_samp_per_class, class_label)), axis=0)\n",
    "del Zxx"
   ]
  },
  {
   "cell_type": "code",
   "execution_count": 18,
   "metadata": {},
   "outputs": [
    {
     "name": "stdout",
     "output_type": "stream",
     "text": [
      "(20000, 2048)\n",
      "(20000,)\n"
     ]
    }
   ],
   "source": [
    "print(X.shape)\n",
    "print(y.shape)"
   ]
  },
  {
   "cell_type": "markdown",
   "metadata": {},
   "source": [
    "#### Preparing the Data of Class 2"
   ]
  },
  {
   "cell_type": "code",
   "execution_count": 19,
   "metadata": {},
   "outputs": [],
   "source": [
    "class_label = 2"
   ]
  },
  {
   "cell_type": "code",
   "execution_count": 20,
   "metadata": {},
   "outputs": [],
   "source": [
    "data = getData(\"/home/asanka/Desktop/smartphone-EM-dataset-2020-11-23/sony-xperia/camera-video.cfile\")"
   ]
  },
  {
   "cell_type": "code",
   "execution_count": 21,
   "metadata": {},
   "outputs": [
    {
     "name": "stdout",
     "output_type": "stream",
     "text": [
      "2048\n",
      "34452\n",
      "(2048, 34452)\n"
     ]
    }
   ],
   "source": [
    "f, t, Zxx = signal.stft(data, fs=20e6, nperseg=fft_size, noverlap=fft_overlap)\n",
    "print(len(f))\n",
    "print(len(t))\n",
    "print(Zxx.shape)"
   ]
  },
  {
   "cell_type": "code",
   "execution_count": 22,
   "metadata": {},
   "outputs": [],
   "source": [
    "del data"
   ]
  },
  {
   "cell_type": "code",
   "execution_count": 23,
   "metadata": {},
   "outputs": [],
   "source": [
    "Zxx = Zxx.transpose()"
   ]
  },
  {
   "cell_type": "code",
   "execution_count": 24,
   "metadata": {},
   "outputs": [],
   "source": [
    "X = np.concatenate((X, Zxx[:num_samp_per_class]), axis=0) \n",
    "y = np.concatenate((y, np.full(num_samp_per_class, class_label)), axis=0)\n",
    "del Zxx"
   ]
  },
  {
   "cell_type": "code",
   "execution_count": 25,
   "metadata": {},
   "outputs": [
    {
     "name": "stdout",
     "output_type": "stream",
     "text": [
      "(30000, 2048)\n",
      "(30000,)\n"
     ]
    }
   ],
   "source": [
    "print(X.shape)\n",
    "print(y.shape)"
   ]
  },
  {
   "cell_type": "markdown",
   "metadata": {},
   "source": [
    "#### Preparing the Data of Class 3"
   ]
  },
  {
   "cell_type": "code",
   "execution_count": 26,
   "metadata": {},
   "outputs": [],
   "source": [
    "class_label = 3"
   ]
  },
  {
   "cell_type": "code",
   "execution_count": 27,
   "metadata": {},
   "outputs": [],
   "source": [
    "data = getData(\"/home/asanka/Desktop/smartphone-EM-dataset-2020-11-23/sony-xperia/email-app.cfile\")"
   ]
  },
  {
   "cell_type": "code",
   "execution_count": 28,
   "metadata": {},
   "outputs": [
    {
     "name": "stdout",
     "output_type": "stream",
     "text": [
      "2048\n",
      "42785\n",
      "(2048, 42785)\n"
     ]
    }
   ],
   "source": [
    "f, t, Zxx = signal.stft(data, fs=20e6, nperseg=fft_size, noverlap=fft_overlap)\n",
    "print(len(f))\n",
    "print(len(t))\n",
    "print(Zxx.shape)"
   ]
  },
  {
   "cell_type": "code",
   "execution_count": 29,
   "metadata": {},
   "outputs": [],
   "source": [
    "del data"
   ]
  },
  {
   "cell_type": "code",
   "execution_count": 30,
   "metadata": {},
   "outputs": [],
   "source": [
    "Zxx = Zxx.transpose()"
   ]
  },
  {
   "cell_type": "code",
   "execution_count": 31,
   "metadata": {},
   "outputs": [],
   "source": [
    "X = np.concatenate((X, Zxx[:num_samp_per_class]), axis=0) \n",
    "y = np.concatenate((y, np.full(num_samp_per_class, class_label)), axis=0)\n",
    "del Zxx"
   ]
  },
  {
   "cell_type": "code",
   "execution_count": 32,
   "metadata": {},
   "outputs": [
    {
     "name": "stdout",
     "output_type": "stream",
     "text": [
      "(40000, 2048)\n",
      "(40000,)\n"
     ]
    }
   ],
   "source": [
    "print(X.shape)\n",
    "print(y.shape)"
   ]
  },
  {
   "cell_type": "markdown",
   "metadata": {},
   "source": [
    "#### Preparing the Data of Class 4"
   ]
  },
  {
   "cell_type": "code",
   "execution_count": 33,
   "metadata": {},
   "outputs": [],
   "source": [
    "class_label = 4"
   ]
  },
  {
   "cell_type": "code",
   "execution_count": 34,
   "metadata": {},
   "outputs": [],
   "source": [
    "data = getData(\"/home/asanka/Desktop/smartphone-EM-dataset-2020-11-23/sony-xperia/gallary-app.cfile\")"
   ]
  },
  {
   "cell_type": "code",
   "execution_count": 35,
   "metadata": {},
   "outputs": [
    {
     "name": "stdout",
     "output_type": "stream",
     "text": [
      "2048\n",
      "43708\n",
      "(2048, 43708)\n"
     ]
    }
   ],
   "source": [
    "f, t, Zxx = signal.stft(data, fs=20e6, nperseg=fft_size, noverlap=fft_overlap)\n",
    "print(len(f))\n",
    "print(len(t))\n",
    "print(Zxx.shape)"
   ]
  },
  {
   "cell_type": "code",
   "execution_count": 36,
   "metadata": {},
   "outputs": [],
   "source": [
    "del data"
   ]
  },
  {
   "cell_type": "code",
   "execution_count": 37,
   "metadata": {},
   "outputs": [],
   "source": [
    "Zxx = Zxx.transpose()"
   ]
  },
  {
   "cell_type": "code",
   "execution_count": 38,
   "metadata": {},
   "outputs": [],
   "source": [
    "X = np.concatenate((X, Zxx[:num_samp_per_class]), axis=0) \n",
    "y = np.concatenate((y, np.full(num_samp_per_class, class_label)), axis=0)\n",
    "del Zxx"
   ]
  },
  {
   "cell_type": "code",
   "execution_count": 39,
   "metadata": {},
   "outputs": [
    {
     "name": "stdout",
     "output_type": "stream",
     "text": [
      "(50000, 2048)\n",
      "(50000,)\n"
     ]
    }
   ],
   "source": [
    "print(X.shape)\n",
    "print(y.shape)"
   ]
  },
  {
   "cell_type": "markdown",
   "metadata": {},
   "source": [
    "#### Preparing the Data of Class 5"
   ]
  },
  {
   "cell_type": "code",
   "execution_count": 40,
   "metadata": {},
   "outputs": [],
   "source": [
    "class_label = 5"
   ]
  },
  {
   "cell_type": "code",
   "execution_count": 41,
   "metadata": {},
   "outputs": [],
   "source": [
    "data = getData(\"/home/asanka/Desktop/smartphone-EM-dataset-2020-11-23/sony-xperia/home-screen.cfile\")"
   ]
  },
  {
   "cell_type": "code",
   "execution_count": 42,
   "metadata": {},
   "outputs": [
    {
     "name": "stdout",
     "output_type": "stream",
     "text": [
      "2048\n",
      "42136\n",
      "(2048, 42136)\n"
     ]
    }
   ],
   "source": [
    "f, t, Zxx = signal.stft(data, fs=20e6, nperseg=fft_size, noverlap=fft_overlap)\n",
    "print(len(f))\n",
    "print(len(t))\n",
    "print(Zxx.shape)"
   ]
  },
  {
   "cell_type": "code",
   "execution_count": 43,
   "metadata": {},
   "outputs": [],
   "source": [
    "del data"
   ]
  },
  {
   "cell_type": "code",
   "execution_count": 44,
   "metadata": {},
   "outputs": [],
   "source": [
    "Zxx = Zxx.transpose()"
   ]
  },
  {
   "cell_type": "code",
   "execution_count": 45,
   "metadata": {},
   "outputs": [],
   "source": [
    "X = np.concatenate((X, Zxx[:num_samp_per_class]), axis=0) \n",
    "y = np.concatenate((y, np.full(num_samp_per_class, class_label)), axis=0)\n",
    "del Zxx"
   ]
  },
  {
   "cell_type": "code",
   "execution_count": 46,
   "metadata": {},
   "outputs": [
    {
     "name": "stdout",
     "output_type": "stream",
     "text": [
      "(60000, 2048)\n",
      "(60000,)\n"
     ]
    }
   ],
   "source": [
    "print(X.shape)\n",
    "print(y.shape)"
   ]
  },
  {
   "cell_type": "markdown",
   "metadata": {},
   "source": [
    "#### Preparing the Data of Class 6"
   ]
  },
  {
   "cell_type": "code",
   "execution_count": 47,
   "metadata": {},
   "outputs": [],
   "source": [
    "class_label = 6"
   ]
  },
  {
   "cell_type": "code",
   "execution_count": 48,
   "metadata": {},
   "outputs": [],
   "source": [
    "data = getData(\"/home/asanka/Desktop/smartphone-EM-dataset-2020-11-23/sony-xperia/idle.cfile\")"
   ]
  },
  {
   "cell_type": "code",
   "execution_count": 49,
   "metadata": {},
   "outputs": [
    {
     "name": "stdout",
     "output_type": "stream",
     "text": [
      "2048\n",
      "35604\n",
      "(2048, 35604)\n"
     ]
    }
   ],
   "source": [
    "f, t, Zxx = signal.stft(data, fs=20e6, nperseg=fft_size, noverlap=fft_overlap)\n",
    "print(len(f))\n",
    "print(len(t))\n",
    "print(Zxx.shape)"
   ]
  },
  {
   "cell_type": "code",
   "execution_count": 50,
   "metadata": {},
   "outputs": [],
   "source": [
    "del data"
   ]
  },
  {
   "cell_type": "code",
   "execution_count": 51,
   "metadata": {},
   "outputs": [],
   "source": [
    "Zxx = Zxx.transpose()"
   ]
  },
  {
   "cell_type": "code",
   "execution_count": 52,
   "metadata": {},
   "outputs": [],
   "source": [
    "X = np.concatenate((X, Zxx[:num_samp_per_class]), axis=0) \n",
    "y = np.concatenate((y, np.full(num_samp_per_class, class_label)), axis=0)\n",
    "del Zxx"
   ]
  },
  {
   "cell_type": "code",
   "execution_count": 53,
   "metadata": {},
   "outputs": [
    {
     "name": "stdout",
     "output_type": "stream",
     "text": [
      "(70000, 2048)\n",
      "(70000,)\n"
     ]
    }
   ],
   "source": [
    "print(X.shape)\n",
    "print(y.shape)"
   ]
  },
  {
   "cell_type": "markdown",
   "metadata": {},
   "source": [
    "#### Preparing the Data of Class 7"
   ]
  },
  {
   "cell_type": "code",
   "execution_count": 54,
   "metadata": {},
   "outputs": [],
   "source": [
    "class_label = 7"
   ]
  },
  {
   "cell_type": "code",
   "execution_count": 55,
   "metadata": {},
   "outputs": [],
   "source": [
    "data = getData(\"/home/asanka/Desktop/smartphone-EM-dataset-2020-11-23/sony-xperia/phone-app.cfile\")"
   ]
  },
  {
   "cell_type": "code",
   "execution_count": 56,
   "metadata": {},
   "outputs": [
    {
     "name": "stdout",
     "output_type": "stream",
     "text": [
      "2048\n",
      "50251\n",
      "(2048, 50251)\n"
     ]
    }
   ],
   "source": [
    "f, t, Zxx = signal.stft(data, fs=20e6, nperseg=fft_size, noverlap=fft_overlap)\n",
    "print(len(f))\n",
    "print(len(t))\n",
    "print(Zxx.shape)"
   ]
  },
  {
   "cell_type": "code",
   "execution_count": 57,
   "metadata": {},
   "outputs": [],
   "source": [
    "del data"
   ]
  },
  {
   "cell_type": "code",
   "execution_count": 58,
   "metadata": {},
   "outputs": [],
   "source": [
    "Zxx = Zxx.transpose()"
   ]
  },
  {
   "cell_type": "code",
   "execution_count": 59,
   "metadata": {},
   "outputs": [],
   "source": [
    "X = np.concatenate((X, Zxx[:num_samp_per_class]), axis=0) \n",
    "y = np.concatenate((y, np.full(num_samp_per_class, class_label)), axis=0)\n",
    "del Zxx"
   ]
  },
  {
   "cell_type": "code",
   "execution_count": 60,
   "metadata": {},
   "outputs": [
    {
     "name": "stdout",
     "output_type": "stream",
     "text": [
      "(80000, 2048)\n",
      "(80000,)\n"
     ]
    }
   ],
   "source": [
    "print(X.shape)\n",
    "print(y.shape)"
   ]
  },
  {
   "cell_type": "markdown",
   "metadata": {},
   "source": [
    "#### Preparing the Data of Class 8"
   ]
  },
  {
   "cell_type": "code",
   "execution_count": 61,
   "metadata": {},
   "outputs": [],
   "source": [
    "class_label = 8"
   ]
  },
  {
   "cell_type": "code",
   "execution_count": 62,
   "metadata": {},
   "outputs": [],
   "source": [
    "data = getData(\"/home/asanka/Desktop/smartphone-EM-dataset-2020-11-23/sony-xperia/sms-app.cfile\")"
   ]
  },
  {
   "cell_type": "code",
   "execution_count": 63,
   "metadata": {},
   "outputs": [
    {
     "name": "stdout",
     "output_type": "stream",
     "text": [
      "2048\n",
      "40086\n",
      "(2048, 40086)\n"
     ]
    }
   ],
   "source": [
    "f, t, Zxx = signal.stft(data, fs=20e6, nperseg=fft_size, noverlap=fft_overlap)\n",
    "print(len(f))\n",
    "print(len(t))\n",
    "print(Zxx.shape)"
   ]
  },
  {
   "cell_type": "code",
   "execution_count": 64,
   "metadata": {},
   "outputs": [],
   "source": [
    "del data"
   ]
  },
  {
   "cell_type": "code",
   "execution_count": 65,
   "metadata": {},
   "outputs": [],
   "source": [
    "Zxx = Zxx.transpose()"
   ]
  },
  {
   "cell_type": "code",
   "execution_count": 66,
   "metadata": {},
   "outputs": [],
   "source": [
    "X = np.concatenate((X, Zxx[:num_samp_per_class]), axis=0) \n",
    "y = np.concatenate((y, np.full(num_samp_per_class, class_label)), axis=0)\n",
    "del Zxx"
   ]
  },
  {
   "cell_type": "code",
   "execution_count": 67,
   "metadata": {},
   "outputs": [
    {
     "name": "stdout",
     "output_type": "stream",
     "text": [
      "(90000, 2048)\n",
      "(90000,)\n"
     ]
    }
   ],
   "source": [
    "print(X.shape)\n",
    "print(y.shape)"
   ]
  },
  {
   "cell_type": "markdown",
   "metadata": {},
   "source": [
    "#### Preparing the Data of Class 9"
   ]
  },
  {
   "cell_type": "code",
   "execution_count": 68,
   "metadata": {},
   "outputs": [],
   "source": [
    "class_label = 9"
   ]
  },
  {
   "cell_type": "code",
   "execution_count": 69,
   "metadata": {},
   "outputs": [],
   "source": [
    "data = getData(\"/home/asanka/Desktop/smartphone-EM-dataset-2020-11-23/sony-xperia/web-browser-app.cfile\")"
   ]
  },
  {
   "cell_type": "code",
   "execution_count": 70,
   "metadata": {},
   "outputs": [
    {
     "name": "stdout",
     "output_type": "stream",
     "text": [
      "2048\n",
      "34379\n",
      "(2048, 34379)\n"
     ]
    }
   ],
   "source": [
    "f, t, Zxx = signal.stft(data, fs=20e6, nperseg=fft_size, noverlap=fft_overlap)\n",
    "print(len(f))\n",
    "print(len(t))\n",
    "print(Zxx.shape)"
   ]
  },
  {
   "cell_type": "code",
   "execution_count": 71,
   "metadata": {},
   "outputs": [],
   "source": [
    "del data"
   ]
  },
  {
   "cell_type": "code",
   "execution_count": 72,
   "metadata": {},
   "outputs": [],
   "source": [
    "Zxx = Zxx.transpose()"
   ]
  },
  {
   "cell_type": "code",
   "execution_count": 73,
   "metadata": {},
   "outputs": [],
   "source": [
    "X = np.concatenate((X, Zxx[:num_samp_per_class]), axis=0) \n",
    "y = np.concatenate((y, np.full(num_samp_per_class, class_label)), axis=0)\n",
    "del Zxx"
   ]
  },
  {
   "cell_type": "code",
   "execution_count": 74,
   "metadata": {},
   "outputs": [
    {
     "name": "stdout",
     "output_type": "stream",
     "text": [
      "(100000, 2048)\n",
      "(100000,)\n"
     ]
    }
   ],
   "source": [
    "print(X.shape)\n",
    "print(y.shape)"
   ]
  },
  {
   "cell_type": "markdown",
   "metadata": {},
   "source": [
    "### Building the Model"
   ]
  },
  {
   "cell_type": "code",
   "execution_count": 75,
   "metadata": {},
   "outputs": [
    {
     "name": "stdout",
     "output_type": "stream",
     "text": [
      "[0.03161978 0.01834747 0.01330199 ... 0.01502602 0.01557955 0.02436738]\n"
     ]
    }
   ],
   "source": [
    "X = abs(X)\n",
    "\n",
    "# scaling the features (only real part of the data can be used)\n",
    "scaler = MinMaxScaler()\n",
    "scaler.fit(X)\n",
    "print(scaler.data_max_)\n",
    "X = scaler.transform(X)"
   ]
  },
  {
   "cell_type": "code",
   "execution_count": 76,
   "metadata": {},
   "outputs": [],
   "source": [
    "# Split data to train and test sets\n",
    "X_train, X_test, y_train, y_test = train_test_split(X, y, test_size=0.1, random_state=0)"
   ]
  },
  {
   "cell_type": "code",
   "execution_count": 77,
   "metadata": {},
   "outputs": [
    {
     "name": "stdout",
     "output_type": "stream",
     "text": [
      "Model: \"sequential\"\n",
      "_________________________________________________________________\n",
      "Layer (type)                 Output Shape              Param #   \n",
      "=================================================================\n",
      "dense (Dense)                (None, 1400)              2868600   \n",
      "_________________________________________________________________\n",
      "dense_1 (Dense)              (None, 800)               1120800   \n",
      "_________________________________________________________________\n",
      "dense_2 (Dense)              (None, 500)               400500    \n",
      "_________________________________________________________________\n",
      "dense_3 (Dense)              (None, 200)               100200    \n",
      "_________________________________________________________________\n",
      "dense_4 (Dense)              (None, 100)               20100     \n",
      "_________________________________________________________________\n",
      "dense_5 (Dense)              (None, 10)                1010      \n",
      "=================================================================\n",
      "Total params: 4,511,210\n",
      "Trainable params: 4,511,210\n",
      "Non-trainable params: 0\n",
      "_________________________________________________________________\n"
     ]
    }
   ],
   "source": [
    "model = keras.models.Sequential()\n",
    "model.add(keras.layers.Input(shape=(feature_vector_size,)))\n",
    "\n",
    "model.add(keras.layers.Dense(1400, activation=\"relu\"))\n",
    "\n",
    "model.add(keras.layers.Dense(800, activation=\"relu\"))\n",
    "model.add(keras.layers.Dense(500, activation=\"relu\"))\n",
    "model.add(keras.layers.Dense(200, activation=\"relu\"))\n",
    "model.add(keras.layers.Dense(100, activation=\"relu\"))\n",
    "#model.add(keras.layers.Dense(50, activation=\"relu\"))\n",
    "model.add(keras.layers.Dense(10, activation=\"softmax\"))\n",
    "model.summary()"
   ]
  },
  {
   "cell_type": "code",
   "execution_count": 78,
   "metadata": {},
   "outputs": [],
   "source": [
    "opt = keras.optimizers.SGD(learning_rate=0.001)\n",
    "model.compile(loss=\"sparse_categorical_crossentropy\", optimizer=opt, metrics=[\"accuracy\"])\n",
    "#model.compile(loss=\"sparse_categorical_crossentropy\", optimizer=\"sgd\", metrics=[\"accuracy\"])"
   ]
  },
  {
   "cell_type": "code",
   "execution_count": 79,
   "metadata": {},
   "outputs": [
    {
     "name": "stdout",
     "output_type": "stream",
     "text": [
      "Epoch 1/50\n",
      "2532/2532 [==============================] - 50s 20ms/step - loss: 2.2974 - accuracy: 0.1509 - val_loss: 2.2905 - val_accuracy: 0.2111\n",
      "Epoch 2/50\n",
      "2532/2532 [==============================] - 51s 20ms/step - loss: 2.2795 - accuracy: 0.2403 - val_loss: 2.2643 - val_accuracy: 0.2817\n",
      "Epoch 3/50\n",
      "2532/2532 [==============================] - 51s 20ms/step - loss: 2.2293 - accuracy: 0.3316 - val_loss: 2.1754 - val_accuracy: 0.3324\n",
      "Epoch 4/50\n",
      "2532/2532 [==============================] - 51s 20ms/step - loss: 2.0303 - accuracy: 0.3228 - val_loss: 1.8247 - val_accuracy: 0.3272\n",
      "Epoch 5/50\n",
      "2532/2532 [==============================] - 51s 20ms/step - loss: 1.6282 - accuracy: 0.4038 - val_loss: 1.4630 - val_accuracy: 0.5503\n",
      "Epoch 6/50\n",
      "2532/2532 [==============================] - 54s 21ms/step - loss: 1.3298 - accuracy: 0.6047 - val_loss: 1.2075 - val_accuracy: 0.6318\n",
      "Epoch 7/50\n",
      "2532/2532 [==============================] - 55s 22ms/step - loss: 1.1321 - accuracy: 0.6348 - val_loss: 1.0648 - val_accuracy: 0.6280\n",
      "Epoch 8/50\n",
      "2532/2532 [==============================] - 53s 21ms/step - loss: 1.0240 - accuracy: 0.6468 - val_loss: 0.9924 - val_accuracy: 0.6432\n",
      "Epoch 9/50\n",
      "2532/2532 [==============================] - 53s 21ms/step - loss: 0.9611 - accuracy: 0.6608 - val_loss: 0.9325 - val_accuracy: 0.6766\n",
      "Epoch 10/50\n",
      "2532/2532 [==============================] - 53s 21ms/step - loss: 0.9142 - accuracy: 0.6768 - val_loss: 0.8885 - val_accuracy: 0.6833\n",
      "Epoch 11/50\n",
      "2532/2532 [==============================] - 54s 21ms/step - loss: 0.8663 - accuracy: 0.6999 - val_loss: 0.8479 - val_accuracy: 0.6920\n",
      "Epoch 12/50\n",
      "2532/2532 [==============================] - 54s 21ms/step - loss: 0.8118 - accuracy: 0.7178 - val_loss: 0.7842 - val_accuracy: 0.7099\n",
      "Epoch 13/50\n",
      "2532/2532 [==============================] - 54s 21ms/step - loss: 0.7574 - accuracy: 0.7363 - val_loss: 0.7284 - val_accuracy: 0.7329\n",
      "Epoch 14/50\n",
      "2532/2532 [==============================] - 53s 21ms/step - loss: 0.7087 - accuracy: 0.7536 - val_loss: 0.6990 - val_accuracy: 0.7390\n",
      "Epoch 15/50\n",
      "2532/2532 [==============================] - 52s 20ms/step - loss: 0.6668 - accuracy: 0.7702 - val_loss: 0.6536 - val_accuracy: 0.7663\n",
      "Epoch 16/50\n",
      "2532/2532 [==============================] - 53s 21ms/step - loss: 0.6305 - accuracy: 0.7872 - val_loss: 0.6106 - val_accuracy: 0.7961\n",
      "Epoch 17/50\n",
      "2532/2532 [==============================] - 53s 21ms/step - loss: 0.5983 - accuracy: 0.8003 - val_loss: 0.5844 - val_accuracy: 0.7949\n",
      "Epoch 18/50\n",
      "2532/2532 [==============================] - 53s 21ms/step - loss: 0.5707 - accuracy: 0.8111 - val_loss: 0.5625 - val_accuracy: 0.8058\n",
      "Epoch 19/50\n",
      "2532/2532 [==============================] - 53s 21ms/step - loss: 0.5465 - accuracy: 0.8197 - val_loss: 0.5365 - val_accuracy: 0.8153\n",
      "Epoch 20/50\n",
      "2532/2532 [==============================] - 55s 22ms/step - loss: 0.5253 - accuracy: 0.8273 - val_loss: 0.5427 - val_accuracy: 0.8074\n",
      "Epoch 21/50\n",
      "2532/2532 [==============================] - 53s 21ms/step - loss: 0.5051 - accuracy: 0.8335 - val_loss: 0.5413 - val_accuracy: 0.8026\n",
      "Epoch 22/50\n",
      "2532/2532 [==============================] - 52s 20ms/step - loss: 0.4870 - accuracy: 0.8397 - val_loss: 0.4862 - val_accuracy: 0.8314\n",
      "Epoch 23/50\n",
      "2532/2532 [==============================] - 53s 21ms/step - loss: 0.4711 - accuracy: 0.8445 - val_loss: 0.4753 - val_accuracy: 0.8344\n",
      "Epoch 24/50\n",
      "2532/2532 [==============================] - 52s 20ms/step - loss: 0.4552 - accuracy: 0.8487 - val_loss: 0.4659 - val_accuracy: 0.8316\n",
      "Epoch 25/50\n",
      "2532/2532 [==============================] - 52s 21ms/step - loss: 0.4408 - accuracy: 0.8543 - val_loss: 0.4698 - val_accuracy: 0.8301\n",
      "Epoch 26/50\n",
      "2532/2532 [==============================] - 53s 21ms/step - loss: 0.4278 - accuracy: 0.8577 - val_loss: 0.4362 - val_accuracy: 0.8478\n",
      "Epoch 27/50\n",
      "2532/2532 [==============================] - 53s 21ms/step - loss: 0.4160 - accuracy: 0.8601 - val_loss: 0.4157 - val_accuracy: 0.8564\n",
      "Epoch 28/50\n",
      "2532/2532 [==============================] - 53s 21ms/step - loss: 0.4052 - accuracy: 0.8640 - val_loss: 0.4007 - val_accuracy: 0.8619\n",
      "Epoch 29/50\n",
      "2532/2532 [==============================] - 54s 21ms/step - loss: 0.3960 - accuracy: 0.8671 - val_loss: 0.4030 - val_accuracy: 0.8582\n",
      "Epoch 30/50\n",
      "2532/2532 [==============================] - 54s 21ms/step - loss: 0.3878 - accuracy: 0.8694 - val_loss: 0.3984 - val_accuracy: 0.8572\n",
      "Epoch 31/50\n",
      "2532/2532 [==============================] - 54s 21ms/step - loss: 0.3798 - accuracy: 0.8710 - val_loss: 0.3800 - val_accuracy: 0.8668\n",
      "Epoch 32/50\n",
      "2532/2532 [==============================] - 52s 21ms/step - loss: 0.3727 - accuracy: 0.8737 - val_loss: 0.3996 - val_accuracy: 0.8560\n",
      "Epoch 33/50\n",
      "2532/2532 [==============================] - 52s 21ms/step - loss: 0.3664 - accuracy: 0.8750 - val_loss: 0.3651 - val_accuracy: 0.8723\n",
      "Epoch 34/50\n",
      "2532/2532 [==============================] - 53s 21ms/step - loss: 0.3598 - accuracy: 0.8773 - val_loss: 0.3640 - val_accuracy: 0.8702\n",
      "Epoch 35/50\n",
      "2532/2532 [==============================] - 53s 21ms/step - loss: 0.3532 - accuracy: 0.8788 - val_loss: 0.4787 - val_accuracy: 0.8182\n",
      "Epoch 36/50\n",
      "2532/2532 [==============================] - 53s 21ms/step - loss: 0.3483 - accuracy: 0.8801 - val_loss: 0.4083 - val_accuracy: 0.8502\n",
      "Epoch 37/50\n",
      "2532/2532 [==============================] - 57s 23ms/step - loss: 0.3429 - accuracy: 0.8827 - val_loss: 0.3490 - val_accuracy: 0.8757\n",
      "Epoch 38/50\n",
      "2532/2532 [==============================] - 56s 22ms/step - loss: 0.3379 - accuracy: 0.8835 - val_loss: 0.3700 - val_accuracy: 0.8667\n",
      "Epoch 39/50\n",
      "2532/2532 [==============================] - 55s 22ms/step - loss: 0.3338 - accuracy: 0.8856 - val_loss: 0.3523 - val_accuracy: 0.8759\n",
      "Epoch 40/50\n",
      "2532/2532 [==============================] - 56s 22ms/step - loss: 0.3290 - accuracy: 0.8865 - val_loss: 0.3552 - val_accuracy: 0.8742\n",
      "Epoch 41/50\n",
      "2532/2532 [==============================] - 55s 22ms/step - loss: 0.3252 - accuracy: 0.8886 - val_loss: 0.3441 - val_accuracy: 0.8781\n",
      "Epoch 42/50\n",
      "2532/2532 [==============================] - 57s 23ms/step - loss: 0.3208 - accuracy: 0.8893 - val_loss: 0.3757 - val_accuracy: 0.8642\n",
      "Epoch 43/50\n",
      "2532/2532 [==============================] - 57s 23ms/step - loss: 0.3168 - accuracy: 0.8912 - val_loss: 0.3411 - val_accuracy: 0.8814\n",
      "Epoch 44/50\n",
      "2532/2532 [==============================] - 54s 21ms/step - loss: 0.3124 - accuracy: 0.8926 - val_loss: 0.3371 - val_accuracy: 0.8793\n",
      "Epoch 45/50\n",
      "2532/2532 [==============================] - 55s 22ms/step - loss: 0.3090 - accuracy: 0.8927 - val_loss: 0.3693 - val_accuracy: 0.8672\n",
      "Epoch 46/50\n",
      "2532/2532 [==============================] - 54s 21ms/step - loss: 0.3051 - accuracy: 0.8947 - val_loss: 0.3297 - val_accuracy: 0.8828\n",
      "Epoch 47/50\n",
      "2532/2532 [==============================] - 54s 21ms/step - loss: 0.3010 - accuracy: 0.8957 - val_loss: 0.3234 - val_accuracy: 0.8861\n",
      "Epoch 48/50\n",
      "2532/2532 [==============================] - 54s 21ms/step - loss: 0.2984 - accuracy: 0.8965 - val_loss: 0.3179 - val_accuracy: 0.8879\n",
      "Epoch 49/50\n",
      "2532/2532 [==============================] - 55s 22ms/step - loss: 0.2947 - accuracy: 0.8982 - val_loss: 0.3340 - val_accuracy: 0.8810\n",
      "Epoch 50/50\n",
      "2532/2532 [==============================] - 55s 22ms/step - loss: 0.2912 - accuracy: 0.8998 - val_loss: 0.3247 - val_accuracy: 0.8867\n"
     ]
    }
   ],
   "source": [
    "#history = model.fit(X_train, y_train, epochs=30, validation_data=(X_test, y_test))\n",
    "#history = model.fit(X_train, y_train, epochs=30, validation_split=0.1)\n",
    "\n",
    "checkpoint_cb = keras.callbacks.ModelCheckpoint(\"./2.Sony-Xperia-Analysis.h5\", save_best_only=True)\n",
    "history = model.fit(X_train, y_train, epochs=50, validation_split=0.1, callbacks=[checkpoint_cb])"
   ]
  },
  {
   "cell_type": "markdown",
   "metadata": {},
   "source": [
    "### Plotting"
   ]
  },
  {
   "cell_type": "code",
   "execution_count": 80,
   "metadata": {},
   "outputs": [
    {
     "data": {
      "image/png": "[encoded data removed]",
      "text/plain": [
       "<Figure size 576x360 with 1 Axes>"
      ]
     },
     "metadata": {
      "needs_background": "light"
     },
     "output_type": "display_data"
    }
   ],
   "source": [
    "pd.DataFrame(history.history).plot(figsize=(8, 5))\n",
    "plt.grid(True)\n",
    "plt.gca().set_ylim(0, 1) # set the vertical range to [0-1]\n",
    "plt.show()"
   ]
  },
  {
   "cell_type": "markdown",
   "metadata": {},
   "source": [
    "### Testing the Model"
   ]
  },
  {
   "cell_type": "code",
   "execution_count": 81,
   "metadata": {},
   "outputs": [],
   "source": [
    "model = keras.models.load_model(\"./2.Sony-Xperia-Analysis.h5\")"
   ]
  },
  {
   "cell_type": "code",
   "execution_count": 82,
   "metadata": {},
   "outputs": [
    {
     "name": "stdout",
     "output_type": "stream",
     "text": [
      "313/313 [==============================] - 2s 7ms/step - loss: 0.3354 - accuracy: 0.0996\n",
      "test loss, test acc: [0.3354182243347168, 0.09960000216960907]\n"
     ]
    }
   ],
   "source": [
    "results = model.evaluate(X_test, y_test)\n",
    "print(\"test loss, test acc:\", results)"
   ]
  },
  {
   "cell_type": "code",
   "execution_count": 83,
   "metadata": {},
   "outputs": [
    {
     "name": "stdout",
     "output_type": "stream",
     "text": [
      "WARNING:tensorflow:From <ipython-input-83-2e172f00940a>:2: Sequential.predict_classes (from tensorflow.python.keras.engine.sequential) is deprecated and will be removed after 2021-01-01.\n",
      "Instructions for updating:\n",
      "Please use instead:* `np.argmax(model.predict(x), axis=-1)`,   if your model does multi-class classification   (e.g. if it uses a `softmax` last-layer activation).* `(model.predict(x) > 0.5).astype(\"int32\")`,   if your model does binary classification   (e.g. if it uses a `sigmoid` last-layer activation).\n"
     ]
    }
   ],
   "source": [
    "#y_pred = model.predict(X_test)\n",
    "y_pred = model.predict_classes(X_test)"
   ]
  },
  {
   "cell_type": "code",
   "execution_count": 84,
   "metadata": {},
   "outputs": [
    {
     "name": "stdout",
     "output_type": "stream",
     "text": [
      "[0 6 5 ... 6 5 6]\n"
     ]
    }
   ],
   "source": [
    "print(y_pred)"
   ]
  },
  {
   "cell_type": "code",
   "execution_count": 85,
   "metadata": {},
   "outputs": [
    {
     "name": "stdout",
     "output_type": "stream",
     "text": [
      "0\n"
     ]
    }
   ],
   "source": [
    "print(y_pred[0])"
   ]
  },
  {
   "cell_type": "code",
   "execution_count": 86,
   "metadata": {},
   "outputs": [
    {
     "name": "stdout",
     "output_type": "stream",
     "text": [
      "[[968   3  32   0   0   3   4   0   1   0]\n",
      " [  0 978   0   0   0   3  22   3   0   4]\n",
      " [ 17   1 875  23  69   1   4   0   3   0]\n",
      " [  3   0  23 846  62   2   2   0   1   0]\n",
      " [  8   0 114 197 719   1   3   0   1   0]\n",
      " [  0   8   0   1   0 746   9  48 204  11]\n",
      " [  0  28   0   0   2   1 968   0   0   0]\n",
      " [  0   7   0   0   0  24   7 930   6   0]\n",
      " [  0   5   0   0   0 172   4  11 811   0]\n",
      " [  0  11   0   0   0  14   3   0   1 972]]\n",
      "              precision    recall  f1-score   support\n",
      "\n",
      "           0       0.97      0.96      0.96      1011\n",
      "           1       0.94      0.97      0.95      1010\n",
      "           2       0.84      0.88      0.86       993\n",
      "           3       0.79      0.90      0.84       939\n",
      "           4       0.84      0.69      0.76      1043\n",
      "           5       0.77      0.73      0.75      1027\n",
      "           6       0.94      0.97      0.96       999\n",
      "           7       0.94      0.95      0.95       974\n",
      "           8       0.79      0.81      0.80      1003\n",
      "           9       0.98      0.97      0.98      1001\n",
      "\n",
      "    accuracy                           0.88     10000\n",
      "   macro avg       0.88      0.88      0.88     10000\n",
      "weighted avg       0.88      0.88      0.88     10000\n",
      "\n"
     ]
    }
   ],
   "source": [
    "print(confusion_matrix(y_test, y_pred))\n",
    "print(classification_report(y_test, y_pred))"
   ]
  },
  {
   "cell_type": "code",
   "execution_count": 81,
   "metadata": {},
   "outputs": [
    {
     "data": {
      "image/png": "[encoded data removed]",
      "text/plain": [
       "<Figure size 432x288 with 2 Axes>"
      ]
     },
     "metadata": {
      "needs_background": "light"
     },
     "output_type": "display_data"
    }
   ],
   "source": [
    "data = getData(\"/home/asanka/Desktop/smartphone-EM-dataset-2020-11-23/sony-xperia/calandar-app.cfile\")\n",
    "\n",
    "fig = plt.figure()\n",
    "pxx, freq, t, cax = plt.specgram(data, NFFT=1024, Fs=20e6, mode='magnitude')\n",
    "fig.colorbar(cax).set_label('Intensity [dB]')\n",
    "plt.xlabel(\"Time (s)\")\n",
    "plt.ylabel(\"Frequency (Hz)\")\n",
    "plt.show()"
   ]
  },
  {
   "cell_type": "markdown",
   "metadata": {},
   "source": [
    "### Saving the Model"
   ]
  },
  {
   "cell_type": "code",
   "execution_count": 90,
   "metadata": {},
   "outputs": [],
   "source": [
    "model.save(\"./2.Sony-Xperia-Analysis.h5\")"
   ]
  },
  {
   "cell_type": "code",
   "execution_count": null,
   "metadata": {},
   "outputs": [],
   "source": []
  }
 ],
 "metadata": {
  "kernelspec": {
   "display_name": "Python 3",
   "language": "python",
   "name": "python3"
  },
  "language_info": {
   "codemirror_mode": {
    "name": "ipython",
    "version": 3
   },
   "file_extension": ".py",
   "mimetype": "text/x-python",
   "name": "python",
   "nbconvert_exporter": "python",
   "pygments_lexer": "ipython3",
   "version": "3.7.7"
  }
 },
 "nbformat": 4,
 "nbformat_minor": 4
}
