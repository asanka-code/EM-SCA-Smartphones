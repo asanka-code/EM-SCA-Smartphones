{
 "cells": [
  {
   "cell_type": "markdown",
   "metadata": {},
   "source": [
    "### A Note on Tuning Hyperparameters\n",
    "\n",
    "The following are the hypterparameters I can tune with.\n",
    "- Number of samples per class.\n",
    "- Learning rate\n",
    "- FFT size (this may force us to change the network architecture, i.e., number of layers and number of nodes per layer.)\n",
    "- FFT overlap\n",
    "- Epoch size"
   ]
  },
  {
   "cell_type": "markdown",
   "metadata": {},
   "source": [
    "### Importing Libraries"
   ]
  },
  {
   "cell_type": "code",
   "execution_count": 1,
   "metadata": {},
   "outputs": [],
   "source": [
    "import numpy as np\n",
    "import pandas as pd\n",
    "from scipy import signal\n",
    "import matplotlib.pyplot as plt\n",
    "import tensorflow as tf\n",
    "from tensorflow import keras\n",
    "from sklearn.model_selection import train_test_split\n",
    "from sklearn.preprocessing import MinMaxScaler"
   ]
  },
  {
   "cell_type": "markdown",
   "metadata": {},
   "source": [
    "### Functions"
   ]
  },
  {
   "cell_type": "code",
   "execution_count": 2,
   "metadata": {},
   "outputs": [],
   "source": [
    "def getData(cfileName):\n",
    "    \"\"\"\n",
    "    Given a name of a *.cfile, this function extracts the interleaved\n",
    "    Inphase-Quadrature data samples and convert it into a numpy array of complex\n",
    "    data elements. *.cfile format has interleaved I and Q samples where each sample\n",
    "    is a float32 type. GNURadio Companion (GRC) scripts output data into a file\n",
    "    though a file sink block in this format.\n",
    "    Read more in SDR data types: https://github.com/miek/inspectrum\n",
    "    \"\"\"\n",
    "    # Read the *.cfile which has each element in float32 format.\n",
    "    data = np.fromfile(cfileName, dtype=\"float32\")\n",
    "    # Take each consecutive interleaved I sample and Q sample to create a single complex element.\n",
    "    data = data[0::2] + 1j*data[1::2]\n",
    "    #print(\"data type=\", type(data))\n",
    "    # Return the complex numpy array.\n",
    "    return data"
   ]
  },
  {
   "cell_type": "markdown",
   "metadata": {},
   "source": [
    "### Loading an EM Trace and Plotting"
   ]
  },
  {
   "cell_type": "markdown",
   "metadata": {},
   "source": [
    "#### Settings:"
   ]
  },
  {
   "cell_type": "code",
   "execution_count": 3,
   "metadata": {},
   "outputs": [],
   "source": [
    "# number of samples per class\n",
    "num_samp_per_class = 7000\n",
    "\n",
    "# FFT size for the STFT operation (which is same as the feature vector size)\n",
    "fft_size = feature_vector_size = 1024\n",
    "\n",
    "# number of overlapping samples for the STFT operation\n",
    "fft_overlap = 256"
   ]
  },
  {
   "cell_type": "code",
   "execution_count": 4,
   "metadata": {},
   "outputs": [],
   "source": [
    "labels = [\"calender-app\", \"camera-photo\", \"camera-video\", \"email-app\", \"gallary-app\"\n",
    "          , \"home-screen\", \"idle-device\", \"phone-app\", \"sms-app\", \"web-browser\"]"
   ]
  },
  {
   "cell_type": "markdown",
   "metadata": {},
   "source": [
    "#### Preparing the Data of Class 0"
   ]
  },
  {
   "cell_type": "code",
   "execution_count": 5,
   "metadata": {},
   "outputs": [],
   "source": [
    "class_label = 0"
   ]
  },
  {
   "cell_type": "code",
   "execution_count": 6,
   "metadata": {},
   "outputs": [],
   "source": [
    "data = getData(\"/home/asanka/Desktop/smartphone-EM-dataset-2020-11-23/apple-iphone-4s/calandar-app.cfile\")"
   ]
  },
  {
   "cell_type": "code",
   "execution_count": 7,
   "metadata": {},
   "outputs": [
    {
     "name": "stderr",
     "output_type": "stream",
     "text": [
      "/home/asanka/miniconda3/lib/python3.7/site-packages/scipy/signal/spectral.py:1812: UserWarning: Input data is complex, switching to return_onesided=False\n",
      "  warnings.warn('Input data is complex, switching to '\n"
     ]
    },
    {
     "name": "stdout",
     "output_type": "stream",
     "text": [
      "1024\n",
      "77997\n",
      "(1024, 77997)\n"
     ]
    }
   ],
   "source": [
    "f, t, Zxx = signal.stft(data, fs=20e6, nperseg=fft_size, noverlap=fft_overlap)\n",
    "print(len(f))\n",
    "print(len(t))\n",
    "print(Zxx.shape)"
   ]
  },
  {
   "cell_type": "code",
   "execution_count": 8,
   "metadata": {},
   "outputs": [],
   "source": [
    "del data"
   ]
  },
  {
   "cell_type": "code",
   "execution_count": 9,
   "metadata": {},
   "outputs": [],
   "source": [
    "Zxx = Zxx.transpose()"
   ]
  },
  {
   "cell_type": "code",
   "execution_count": 10,
   "metadata": {},
   "outputs": [],
   "source": [
    "X = Zxx[:num_samp_per_class]\n",
    "y = np.full(num_samp_per_class, class_label)\n",
    "del Zxx"
   ]
  },
  {
   "cell_type": "code",
   "execution_count": 11,
   "metadata": {},
   "outputs": [
    {
     "name": "stdout",
     "output_type": "stream",
     "text": [
      "(7000, 1024)\n",
      "(7000,)\n"
     ]
    }
   ],
   "source": [
    "print(X.shape)\n",
    "print(y.shape)"
   ]
  },
  {
   "cell_type": "markdown",
   "metadata": {},
   "source": [
    "#### Preparing the Data of Class 1"
   ]
  },
  {
   "cell_type": "code",
   "execution_count": 12,
   "metadata": {},
   "outputs": [],
   "source": [
    "class_label = 1"
   ]
  },
  {
   "cell_type": "code",
   "execution_count": 13,
   "metadata": {},
   "outputs": [],
   "source": [
    "data = getData(\"/home/asanka/Desktop/smartphone-EM-dataset-2020-11-23/apple-iphone-4s/camera-photo.cfile\")"
   ]
  },
  {
   "cell_type": "code",
   "execution_count": 14,
   "metadata": {},
   "outputs": [
    {
     "name": "stdout",
     "output_type": "stream",
     "text": [
      "1024\n",
      "90170\n",
      "(1024, 90170)\n"
     ]
    }
   ],
   "source": [
    "f, t, Zxx = signal.stft(data, fs=20e6, nperseg=fft_size, noverlap=fft_overlap)\n",
    "print(len(f))\n",
    "print(len(t))\n",
    "print(Zxx.shape)"
   ]
  },
  {
   "cell_type": "code",
   "execution_count": 15,
   "metadata": {},
   "outputs": [],
   "source": [
    "del data"
   ]
  },
  {
   "cell_type": "code",
   "execution_count": 16,
   "metadata": {},
   "outputs": [],
   "source": [
    "Zxx = Zxx.transpose()"
   ]
  },
  {
   "cell_type": "code",
   "execution_count": 17,
   "metadata": {},
   "outputs": [],
   "source": [
    "X = np.concatenate((X, Zxx[:num_samp_per_class]), axis=0) \n",
    "y = np.concatenate((y, np.full(num_samp_per_class, class_label)), axis=0)\n",
    "del Zxx"
   ]
  },
  {
   "cell_type": "code",
   "execution_count": 18,
   "metadata": {},
   "outputs": [
    {
     "name": "stdout",
     "output_type": "stream",
     "text": [
      "(14000, 1024)\n",
      "(14000,)\n"
     ]
    }
   ],
   "source": [
    "print(X.shape)\n",
    "print(y.shape)"
   ]
  },
  {
   "cell_type": "markdown",
   "metadata": {},
   "source": [
    "#### Preparing the Data of Class 2"
   ]
  },
  {
   "cell_type": "code",
   "execution_count": 19,
   "metadata": {},
   "outputs": [],
   "source": [
    "class_label = 2"
   ]
  },
  {
   "cell_type": "code",
   "execution_count": 20,
   "metadata": {},
   "outputs": [],
   "source": [
    "data = getData(\"/home/asanka/Desktop/smartphone-EM-dataset-2020-11-23/apple-iphone-4s/camera-video.cfile\")"
   ]
  },
  {
   "cell_type": "code",
   "execution_count": 21,
   "metadata": {},
   "outputs": [
    {
     "name": "stdout",
     "output_type": "stream",
     "text": [
      "1024\n",
      "112734\n",
      "(1024, 112734)\n"
     ]
    }
   ],
   "source": [
    "f, t, Zxx = signal.stft(data, fs=20e6, nperseg=fft_size, noverlap=fft_overlap)\n",
    "print(len(f))\n",
    "print(len(t))\n",
    "print(Zxx.shape)"
   ]
  },
  {
   "cell_type": "code",
   "execution_count": 22,
   "metadata": {},
   "outputs": [],
   "source": [
    "del data"
   ]
  },
  {
   "cell_type": "code",
   "execution_count": 23,
   "metadata": {},
   "outputs": [],
   "source": [
    "Zxx = Zxx.transpose()"
   ]
  },
  {
   "cell_type": "code",
   "execution_count": 24,
   "metadata": {},
   "outputs": [],
   "source": [
    "X = np.concatenate((X, Zxx[:num_samp_per_class]), axis=0) \n",
    "y = np.concatenate((y, np.full(num_samp_per_class, class_label)), axis=0)\n",
    "del Zxx"
   ]
  },
  {
   "cell_type": "code",
   "execution_count": 25,
   "metadata": {},
   "outputs": [
    {
     "name": "stdout",
     "output_type": "stream",
     "text": [
      "(21000, 1024)\n",
      "(21000,)\n"
     ]
    }
   ],
   "source": [
    "print(X.shape)\n",
    "print(y.shape)"
   ]
  },
  {
   "cell_type": "markdown",
   "metadata": {},
   "source": [
    "#### Preparing the Data of Class 3"
   ]
  },
  {
   "cell_type": "code",
   "execution_count": 26,
   "metadata": {},
   "outputs": [],
   "source": [
    "class_label = 3"
   ]
  },
  {
   "cell_type": "code",
   "execution_count": 27,
   "metadata": {},
   "outputs": [],
   "source": [
    "data = getData(\"/home/asanka/Desktop/smartphone-EM-dataset-2020-11-23/apple-iphone-4s/email-app.cfile\")"
   ]
  },
  {
   "cell_type": "code",
   "execution_count": 28,
   "metadata": {},
   "outputs": [
    {
     "name": "stdout",
     "output_type": "stream",
     "text": [
      "1024\n",
      "84300\n",
      "(1024, 84300)\n"
     ]
    }
   ],
   "source": [
    "f, t, Zxx = signal.stft(data, fs=20e6, nperseg=fft_size, noverlap=fft_overlap)\n",
    "print(len(f))\n",
    "print(len(t))\n",
    "print(Zxx.shape)"
   ]
  },
  {
   "cell_type": "code",
   "execution_count": 29,
   "metadata": {},
   "outputs": [],
   "source": [
    "del data"
   ]
  },
  {
   "cell_type": "code",
   "execution_count": 30,
   "metadata": {},
   "outputs": [],
   "source": [
    "Zxx = Zxx.transpose()"
   ]
  },
  {
   "cell_type": "code",
   "execution_count": 31,
   "metadata": {},
   "outputs": [],
   "source": [
    "X = np.concatenate((X, Zxx[:num_samp_per_class]), axis=0) \n",
    "y = np.concatenate((y, np.full(num_samp_per_class, class_label)), axis=0)\n",
    "del Zxx"
   ]
  },
  {
   "cell_type": "code",
   "execution_count": 32,
   "metadata": {},
   "outputs": [
    {
     "name": "stdout",
     "output_type": "stream",
     "text": [
      "(28000, 1024)\n",
      "(28000,)\n"
     ]
    }
   ],
   "source": [
    "print(X.shape)\n",
    "print(y.shape)"
   ]
  },
  {
   "cell_type": "markdown",
   "metadata": {},
   "source": [
    "#### Preparing the Data of Class 4"
   ]
  },
  {
   "cell_type": "code",
   "execution_count": 33,
   "metadata": {},
   "outputs": [],
   "source": [
    "class_label = 4"
   ]
  },
  {
   "cell_type": "code",
   "execution_count": 34,
   "metadata": {},
   "outputs": [],
   "source": [
    "data = getData(\"/home/asanka/Desktop/smartphone-EM-dataset-2020-11-23/apple-iphone-4s/gallary-app.cfile\")"
   ]
  },
  {
   "cell_type": "code",
   "execution_count": 35,
   "metadata": {},
   "outputs": [
    {
     "name": "stdout",
     "output_type": "stream",
     "text": [
      "1024\n",
      "95547\n",
      "(1024, 95547)\n"
     ]
    }
   ],
   "source": [
    "f, t, Zxx = signal.stft(data, fs=20e6, nperseg=fft_size, noverlap=fft_overlap)\n",
    "print(len(f))\n",
    "print(len(t))\n",
    "print(Zxx.shape)"
   ]
  },
  {
   "cell_type": "code",
   "execution_count": 36,
   "metadata": {},
   "outputs": [],
   "source": [
    "del data"
   ]
  },
  {
   "cell_type": "code",
   "execution_count": 37,
   "metadata": {},
   "outputs": [],
   "source": [
    "Zxx = Zxx.transpose()"
   ]
  },
  {
   "cell_type": "code",
   "execution_count": 38,
   "metadata": {},
   "outputs": [],
   "source": [
    "X = np.concatenate((X, Zxx[:num_samp_per_class]), axis=0) \n",
    "y = np.concatenate((y, np.full(num_samp_per_class, class_label)), axis=0)\n",
    "del Zxx"
   ]
  },
  {
   "cell_type": "code",
   "execution_count": 39,
   "metadata": {},
   "outputs": [
    {
     "name": "stdout",
     "output_type": "stream",
     "text": [
      "(35000, 1024)\n",
      "(35000,)\n"
     ]
    }
   ],
   "source": [
    "print(X.shape)\n",
    "print(y.shape)"
   ]
  },
  {
   "cell_type": "markdown",
   "metadata": {},
   "source": [
    "#### Preparing the Data of Class 5"
   ]
  },
  {
   "cell_type": "code",
   "execution_count": 40,
   "metadata": {},
   "outputs": [],
   "source": [
    "class_label = 5"
   ]
  },
  {
   "cell_type": "code",
   "execution_count": 41,
   "metadata": {},
   "outputs": [],
   "source": [
    "data = getData(\"/home/asanka/Desktop/smartphone-EM-dataset-2020-11-23/apple-iphone-4s/home-screen.cfile\")"
   ]
  },
  {
   "cell_type": "code",
   "execution_count": 42,
   "metadata": {},
   "outputs": [
    {
     "name": "stdout",
     "output_type": "stream",
     "text": [
      "1024\n",
      "90285\n",
      "(1024, 90285)\n"
     ]
    }
   ],
   "source": [
    "f, t, Zxx = signal.stft(data, fs=20e6, nperseg=fft_size, noverlap=fft_overlap)\n",
    "print(len(f))\n",
    "print(len(t))\n",
    "print(Zxx.shape)"
   ]
  },
  {
   "cell_type": "code",
   "execution_count": 43,
   "metadata": {},
   "outputs": [],
   "source": [
    "del data"
   ]
  },
  {
   "cell_type": "code",
   "execution_count": 44,
   "metadata": {},
   "outputs": [],
   "source": [
    "Zxx = Zxx.transpose()"
   ]
  },
  {
   "cell_type": "code",
   "execution_count": 45,
   "metadata": {},
   "outputs": [],
   "source": [
    "X = np.concatenate((X, Zxx[:num_samp_per_class]), axis=0) \n",
    "y = np.concatenate((y, np.full(num_samp_per_class, class_label)), axis=0)\n",
    "del Zxx"
   ]
  },
  {
   "cell_type": "code",
   "execution_count": 46,
   "metadata": {},
   "outputs": [
    {
     "name": "stdout",
     "output_type": "stream",
     "text": [
      "(42000, 1024)\n",
      "(42000,)\n"
     ]
    }
   ],
   "source": [
    "print(X.shape)\n",
    "print(y.shape)"
   ]
  },
  {
   "cell_type": "markdown",
   "metadata": {},
   "source": [
    "#### Preparing the Data of Class 6"
   ]
  },
  {
   "cell_type": "code",
   "execution_count": 47,
   "metadata": {},
   "outputs": [],
   "source": [
    "class_label = 6"
   ]
  },
  {
   "cell_type": "code",
   "execution_count": 48,
   "metadata": {},
   "outputs": [],
   "source": [
    "data = getData(\"/home/asanka/Desktop/smartphone-EM-dataset-2020-11-23/apple-iphone-4s/idle.cfile\")"
   ]
  },
  {
   "cell_type": "code",
   "execution_count": 49,
   "metadata": {},
   "outputs": [
    {
     "name": "stdout",
     "output_type": "stream",
     "text": [
      "1024\n",
      "98563\n",
      "(1024, 98563)\n"
     ]
    }
   ],
   "source": [
    "f, t, Zxx = signal.stft(data, fs=20e6, nperseg=fft_size, noverlap=fft_overlap)\n",
    "print(len(f))\n",
    "print(len(t))\n",
    "print(Zxx.shape)"
   ]
  },
  {
   "cell_type": "code",
   "execution_count": 50,
   "metadata": {},
   "outputs": [],
   "source": [
    "del data"
   ]
  },
  {
   "cell_type": "code",
   "execution_count": 51,
   "metadata": {},
   "outputs": [],
   "source": [
    "Zxx = Zxx.transpose()"
   ]
  },
  {
   "cell_type": "code",
   "execution_count": 52,
   "metadata": {},
   "outputs": [],
   "source": [
    "X = np.concatenate((X, Zxx[:num_samp_per_class]), axis=0) \n",
    "y = np.concatenate((y, np.full(num_samp_per_class, class_label)), axis=0)\n",
    "del Zxx"
   ]
  },
  {
   "cell_type": "code",
   "execution_count": 53,
   "metadata": {},
   "outputs": [
    {
     "name": "stdout",
     "output_type": "stream",
     "text": [
      "(49000, 1024)\n",
      "(49000,)\n"
     ]
    }
   ],
   "source": [
    "print(X.shape)\n",
    "print(y.shape)"
   ]
  },
  {
   "cell_type": "markdown",
   "metadata": {},
   "source": [
    "#### Preparing the Data of Class 7"
   ]
  },
  {
   "cell_type": "code",
   "execution_count": 54,
   "metadata": {},
   "outputs": [],
   "source": [
    "class_label = 7"
   ]
  },
  {
   "cell_type": "code",
   "execution_count": 55,
   "metadata": {},
   "outputs": [],
   "source": [
    "data = getData(\"/home/asanka/Desktop/smartphone-EM-dataset-2020-11-23/apple-iphone-4s/phone-app.cfile\")"
   ]
  },
  {
   "cell_type": "code",
   "execution_count": 56,
   "metadata": {},
   "outputs": [
    {
     "name": "stdout",
     "output_type": "stream",
     "text": [
      "1024\n",
      "79874\n",
      "(1024, 79874)\n"
     ]
    }
   ],
   "source": [
    "f, t, Zxx = signal.stft(data, fs=20e6, nperseg=fft_size, noverlap=fft_overlap)\n",
    "print(len(f))\n",
    "print(len(t))\n",
    "print(Zxx.shape)"
   ]
  },
  {
   "cell_type": "code",
   "execution_count": 57,
   "metadata": {},
   "outputs": [],
   "source": [
    "del data"
   ]
  },
  {
   "cell_type": "code",
   "execution_count": 58,
   "metadata": {},
   "outputs": [],
   "source": [
    "Zxx = Zxx.transpose()"
   ]
  },
  {
   "cell_type": "code",
   "execution_count": 59,
   "metadata": {},
   "outputs": [],
   "source": [
    "X = np.concatenate((X, Zxx[:num_samp_per_class]), axis=0) \n",
    "y = np.concatenate((y, np.full(num_samp_per_class, class_label)), axis=0)\n",
    "del Zxx"
   ]
  },
  {
   "cell_type": "code",
   "execution_count": 60,
   "metadata": {},
   "outputs": [
    {
     "name": "stdout",
     "output_type": "stream",
     "text": [
      "(56000, 1024)\n",
      "(56000,)\n"
     ]
    }
   ],
   "source": [
    "print(X.shape)\n",
    "print(y.shape)"
   ]
  },
  {
   "cell_type": "markdown",
   "metadata": {},
   "source": [
    "#### Preparing the Data of Class 8"
   ]
  },
  {
   "cell_type": "code",
   "execution_count": 61,
   "metadata": {},
   "outputs": [],
   "source": [
    "class_label = 8"
   ]
  },
  {
   "cell_type": "code",
   "execution_count": 62,
   "metadata": {},
   "outputs": [],
   "source": [
    "data = getData(\"/home/asanka/Desktop/smartphone-EM-dataset-2020-11-23/apple-iphone-4s/sms-app.cfile\")"
   ]
  },
  {
   "cell_type": "code",
   "execution_count": 63,
   "metadata": {},
   "outputs": [
    {
     "name": "stdout",
     "output_type": "stream",
     "text": [
      "1024\n",
      "98480\n",
      "(1024, 98480)\n"
     ]
    }
   ],
   "source": [
    "f, t, Zxx = signal.stft(data, fs=20e6, nperseg=fft_size, noverlap=fft_overlap)\n",
    "print(len(f))\n",
    "print(len(t))\n",
    "print(Zxx.shape)"
   ]
  },
  {
   "cell_type": "code",
   "execution_count": 64,
   "metadata": {},
   "outputs": [],
   "source": [
    "del data"
   ]
  },
  {
   "cell_type": "code",
   "execution_count": 65,
   "metadata": {},
   "outputs": [],
   "source": [
    "Zxx = Zxx.transpose()"
   ]
  },
  {
   "cell_type": "code",
   "execution_count": 66,
   "metadata": {},
   "outputs": [],
   "source": [
    "X = np.concatenate((X, Zxx[:num_samp_per_class]), axis=0) \n",
    "y = np.concatenate((y, np.full(num_samp_per_class, class_label)), axis=0)\n",
    "del Zxx"
   ]
  },
  {
   "cell_type": "code",
   "execution_count": 67,
   "metadata": {},
   "outputs": [
    {
     "name": "stdout",
     "output_type": "stream",
     "text": [
      "(63000, 1024)\n",
      "(63000,)\n"
     ]
    }
   ],
   "source": [
    "print(X.shape)\n",
    "print(y.shape)"
   ]
  },
  {
   "cell_type": "markdown",
   "metadata": {},
   "source": [
    "#### Preparing the Data of Class 9"
   ]
  },
  {
   "cell_type": "code",
   "execution_count": 68,
   "metadata": {},
   "outputs": [],
   "source": [
    "class_label = 9"
   ]
  },
  {
   "cell_type": "code",
   "execution_count": 69,
   "metadata": {},
   "outputs": [],
   "source": [
    "data = getData(\"/home/asanka/Desktop/smartphone-EM-dataset-2020-11-23/apple-iphone-4s/web-browser-app.cfile\")"
   ]
  },
  {
   "cell_type": "code",
   "execution_count": 70,
   "metadata": {},
   "outputs": [
    {
     "name": "stdout",
     "output_type": "stream",
     "text": [
      "1024\n",
      "77485\n",
      "(1024, 77485)\n"
     ]
    }
   ],
   "source": [
    "f, t, Zxx = signal.stft(data, fs=20e6, nperseg=fft_size, noverlap=fft_overlap)\n",
    "print(len(f))\n",
    "print(len(t))\n",
    "print(Zxx.shape)"
   ]
  },
  {
   "cell_type": "code",
   "execution_count": 71,
   "metadata": {},
   "outputs": [],
   "source": [
    "del data"
   ]
  },
  {
   "cell_type": "code",
   "execution_count": 72,
   "metadata": {},
   "outputs": [],
   "source": [
    "Zxx = Zxx.transpose()"
   ]
  },
  {
   "cell_type": "code",
   "execution_count": 73,
   "metadata": {},
   "outputs": [],
   "source": [
    "X = np.concatenate((X, Zxx[:num_samp_per_class]), axis=0) \n",
    "y = np.concatenate((y, np.full(num_samp_per_class, class_label)), axis=0)\n",
    "del Zxx"
   ]
  },
  {
   "cell_type": "code",
   "execution_count": 74,
   "metadata": {},
   "outputs": [
    {
     "name": "stdout",
     "output_type": "stream",
     "text": [
      "(70000, 1024)\n",
      "(70000,)\n"
     ]
    }
   ],
   "source": [
    "print(X.shape)\n",
    "print(y.shape)"
   ]
  },
  {
   "cell_type": "markdown",
   "metadata": {},
   "source": [
    "### Building the Model"
   ]
  },
  {
   "cell_type": "code",
   "execution_count": 75,
   "metadata": {},
   "outputs": [
    {
     "name": "stdout",
     "output_type": "stream",
     "text": [
      "[0.0230441  0.01509799 0.00488695 ... 0.00272524 0.00510726 0.01498533]\n"
     ]
    }
   ],
   "source": [
    "X = abs(X)\n",
    "\n",
    "# scaling the features (only real part of the data can be used)\n",
    "scaler = MinMaxScaler()\n",
    "scaler.fit(X)\n",
    "print(scaler.data_max_)\n",
    "X = scaler.transform(X)"
   ]
  },
  {
   "cell_type": "code",
   "execution_count": 76,
   "metadata": {},
   "outputs": [],
   "source": [
    "# Split data to train and test sets\n",
    "X_train, X_test, y_train, y_test = train_test_split(X, y, test_size=0.2, random_state=0)"
   ]
  },
  {
   "cell_type": "code",
   "execution_count": 77,
   "metadata": {},
   "outputs": [
    {
     "name": "stdout",
     "output_type": "stream",
     "text": [
      "Model: \"sequential\"\n",
      "_________________________________________________________________\n",
      "Layer (type)                 Output Shape              Param #   \n",
      "=================================================================\n",
      "dense (Dense)                (None, 500)               512500    \n",
      "_________________________________________________________________\n",
      "dense_1 (Dense)              (None, 200)               100200    \n",
      "_________________________________________________________________\n",
      "dense_2 (Dense)              (None, 10)                2010      \n",
      "=================================================================\n",
      "Total params: 614,710\n",
      "Trainable params: 614,710\n",
      "Non-trainable params: 0\n",
      "_________________________________________________________________\n"
     ]
    }
   ],
   "source": [
    "model = keras.models.Sequential()\n",
    "model.add(keras.layers.Input(shape=(feature_vector_size,)))\n",
    "#model.add(keras.layers.Dense(800, activation=\"relu\"))\n",
    "model.add(keras.layers.Dense(500, activation=\"relu\"))\n",
    "model.add(keras.layers.Dense(200, activation=\"relu\"))\n",
    "#model.add(keras.layers.Dense(100, activation=\"relu\"))\n",
    "#model.add(keras.layers.Dense(50, activation=\"relu\"))\n",
    "model.add(keras.layers.Dense(10, activation=\"softmax\"))\n",
    "model.summary()"
   ]
  },
  {
   "cell_type": "code",
   "execution_count": 78,
   "metadata": {},
   "outputs": [],
   "source": [
    "opt = keras.optimizers.SGD(learning_rate=0.001)\n",
    "model.compile(loss=\"sparse_categorical_crossentropy\", optimizer=opt, metrics=[\"accuracy\"])\n",
    "#model.compile(loss=\"sparse_categorical_crossentropy\", optimizer=\"sgd\", metrics=[\"accuracy\"])"
   ]
  },
  {
   "cell_type": "code",
   "execution_count": 79,
   "metadata": {},
   "outputs": [
    {
     "name": "stdout",
     "output_type": "stream",
     "text": [
      "Epoch 1/60\n",
      "1575/1575 [==============================] - 7s 4ms/step - loss: 2.2916 - accuracy: 0.1384 - val_loss: 2.2667 - val_accuracy: 0.1964\n",
      "Epoch 2/60\n",
      "1575/1575 [==============================] - 6s 4ms/step - loss: 2.2352 - accuracy: 0.2285 - val_loss: 2.2072 - val_accuracy: 0.2421\n",
      "Epoch 3/60\n",
      "1575/1575 [==============================] - 6s 4ms/step - loss: 2.1605 - accuracy: 0.2719 - val_loss: 2.1219 - val_accuracy: 0.2766\n",
      "Epoch 4/60\n",
      "1575/1575 [==============================] - 5s 3ms/step - loss: 2.0625 - accuracy: 0.3088 - val_loss: 2.0190 - val_accuracy: 0.3223\n",
      "Epoch 5/60\n",
      "1575/1575 [==============================] - 6s 4ms/step - loss: 1.9618 - accuracy: 0.3474 - val_loss: 1.9273 - val_accuracy: 0.3564\n",
      "Epoch 6/60\n",
      "1575/1575 [==============================] - 5s 3ms/step - loss: 1.8756 - accuracy: 0.3860 - val_loss: 1.8474 - val_accuracy: 0.3945\n",
      "Epoch 7/60\n",
      "1575/1575 [==============================] - 6s 4ms/step - loss: 1.7983 - accuracy: 0.4200 - val_loss: 1.7750 - val_accuracy: 0.4148\n",
      "Epoch 8/60\n",
      "1575/1575 [==============================] - 5s 3ms/step - loss: 1.7240 - accuracy: 0.4524 - val_loss: 1.7013 - val_accuracy: 0.4543\n",
      "Epoch 9/60\n",
      "1575/1575 [==============================] - 5s 3ms/step - loss: 1.6500 - accuracy: 0.4842 - val_loss: 1.6287 - val_accuracy: 0.4909\n",
      "Epoch 10/60\n",
      "1575/1575 [==============================] - 5s 3ms/step - loss: 1.5761 - accuracy: 0.5125 - val_loss: 1.5579 - val_accuracy: 0.5098\n",
      "Epoch 11/60\n",
      "1575/1575 [==============================] - 5s 3ms/step - loss: 1.5023 - accuracy: 0.5389 - val_loss: 1.4860 - val_accuracy: 0.5330\n",
      "Epoch 12/60\n",
      "1575/1575 [==============================] - 5s 3ms/step - loss: 1.4290 - accuracy: 0.5609 - val_loss: 1.4128 - val_accuracy: 0.5632\n",
      "Epoch 13/60\n",
      "1575/1575 [==============================] - 5s 3ms/step - loss: 1.3569 - accuracy: 0.5810 - val_loss: 1.3472 - val_accuracy: 0.5655\n",
      "Epoch 14/60\n",
      "1575/1575 [==============================] - 6s 4ms/step - loss: 1.2890 - accuracy: 0.5985 - val_loss: 1.2788 - val_accuracy: 0.5954\n",
      "Epoch 15/60\n",
      "1575/1575 [==============================] - 6s 4ms/step - loss: 1.2269 - accuracy: 0.6136 - val_loss: 1.2213 - val_accuracy: 0.6157\n",
      "Epoch 16/60\n",
      "1575/1575 [==============================] - 6s 4ms/step - loss: 1.1717 - accuracy: 0.6281 - val_loss: 1.1692 - val_accuracy: 0.6204\n",
      "Epoch 17/60\n",
      "1575/1575 [==============================] - 6s 4ms/step - loss: 1.1239 - accuracy: 0.6403 - val_loss: 1.1306 - val_accuracy: 0.6214\n",
      "Epoch 18/60\n",
      "1575/1575 [==============================] - 6s 4ms/step - loss: 1.0830 - accuracy: 0.6488 - val_loss: 1.0895 - val_accuracy: 0.6420\n",
      "Epoch 19/60\n",
      "1575/1575 [==============================] - 6s 4ms/step - loss: 1.0478 - accuracy: 0.6586 - val_loss: 1.0580 - val_accuracy: 0.6489\n",
      "Epoch 20/60\n",
      "1575/1575 [==============================] - 6s 4ms/step - loss: 1.0178 - accuracy: 0.6647 - val_loss: 1.0303 - val_accuracy: 0.6582\n",
      "Epoch 21/60\n",
      "1575/1575 [==============================] - 6s 4ms/step - loss: 0.9919 - accuracy: 0.6703 - val_loss: 1.0076 - val_accuracy: 0.6602\n",
      "Epoch 22/60\n",
      "1575/1575 [==============================] - 6s 4ms/step - loss: 0.9695 - accuracy: 0.6771 - val_loss: 0.9863 - val_accuracy: 0.6729\n",
      "Epoch 23/60\n",
      "1575/1575 [==============================] - 7s 4ms/step - loss: 0.9502 - accuracy: 0.6812 - val_loss: 0.9708 - val_accuracy: 0.6691\n",
      "Epoch 24/60\n",
      "1575/1575 [==============================] - 6s 4ms/step - loss: 0.9329 - accuracy: 0.6874 - val_loss: 0.9575 - val_accuracy: 0.6680\n",
      "Epoch 25/60\n",
      "1575/1575 [==============================] - 6s 4ms/step - loss: 0.9182 - accuracy: 0.6900 - val_loss: 0.9407 - val_accuracy: 0.6802\n",
      "Epoch 26/60\n",
      "1575/1575 [==============================] - 5s 3ms/step - loss: 0.9041 - accuracy: 0.6941 - val_loss: 0.9311 - val_accuracy: 0.6770\n",
      "Epoch 27/60\n",
      "1575/1575 [==============================] - 6s 4ms/step - loss: 0.8920 - accuracy: 0.6967 - val_loss: 0.9242 - val_accuracy: 0.6754\n",
      "Epoch 28/60\n",
      "1575/1575 [==============================] - 6s 4ms/step - loss: 0.8810 - accuracy: 0.7001 - val_loss: 0.9126 - val_accuracy: 0.6943\n",
      "Epoch 29/60\n",
      "1575/1575 [==============================] - 6s 4ms/step - loss: 0.8708 - accuracy: 0.7040 - val_loss: 0.9003 - val_accuracy: 0.6923\n",
      "Epoch 30/60\n",
      "1575/1575 [==============================] - 6s 4ms/step - loss: 0.8611 - accuracy: 0.7065 - val_loss: 0.8901 - val_accuracy: 0.6993\n",
      "Epoch 31/60\n",
      "1575/1575 [==============================] - 6s 4ms/step - loss: 0.8525 - accuracy: 0.7073 - val_loss: 0.8858 - val_accuracy: 0.6911\n",
      "Epoch 32/60\n",
      "1575/1575 [==============================] - 9s 6ms/step - loss: 0.8447 - accuracy: 0.7106 - val_loss: 0.8778 - val_accuracy: 0.6970\n",
      "Epoch 33/60\n",
      "1575/1575 [==============================] - 12s 8ms/step - loss: 0.8369 - accuracy: 0.7125 - val_loss: 0.8715 - val_accuracy: 0.7041\n",
      "Epoch 34/60\n",
      "1575/1575 [==============================] - 13s 8ms/step - loss: 0.8297 - accuracy: 0.7156 - val_loss: 0.8640 - val_accuracy: 0.7043\n",
      "Epoch 35/60\n",
      "1575/1575 [==============================] - 12s 8ms/step - loss: 0.8232 - accuracy: 0.7173 - val_loss: 0.8621 - val_accuracy: 0.7013\n",
      "Epoch 36/60\n",
      "1575/1575 [==============================] - 10s 7ms/step - loss: 0.8171 - accuracy: 0.7186 - val_loss: 0.8524 - val_accuracy: 0.7057\n",
      "Epoch 37/60\n",
      "1575/1575 [==============================] - 8s 5ms/step - loss: 0.8111 - accuracy: 0.7207 - val_loss: 0.8516 - val_accuracy: 0.7075\n",
      "Epoch 38/60\n",
      "1575/1575 [==============================] - 7s 5ms/step - loss: 0.8053 - accuracy: 0.7217 - val_loss: 0.8476 - val_accuracy: 0.7036\n",
      "Epoch 39/60\n",
      "1575/1575 [==============================] - 7s 5ms/step - loss: 0.7999 - accuracy: 0.7240 - val_loss: 0.8403 - val_accuracy: 0.7114\n",
      "Epoch 40/60\n",
      "1575/1575 [==============================] - 7s 4ms/step - loss: 0.7944 - accuracy: 0.7258 - val_loss: 0.8336 - val_accuracy: 0.7139\n",
      "Epoch 41/60\n",
      "1575/1575 [==============================] - 6s 4ms/step - loss: 0.7902 - accuracy: 0.7267 - val_loss: 0.8299 - val_accuracy: 0.7159\n",
      "Epoch 42/60\n",
      "1575/1575 [==============================] - 6s 4ms/step - loss: 0.7851 - accuracy: 0.7279 - val_loss: 0.8257 - val_accuracy: 0.7170\n",
      "Epoch 43/60\n",
      "1575/1575 [==============================] - 6s 4ms/step - loss: 0.7807 - accuracy: 0.7287 - val_loss: 0.8254 - val_accuracy: 0.7155\n",
      "Epoch 44/60\n",
      "1575/1575 [==============================] - 6s 4ms/step - loss: 0.7763 - accuracy: 0.7308 - val_loss: 0.8207 - val_accuracy: 0.7143\n",
      "Epoch 45/60\n",
      "1575/1575 [==============================] - 6s 4ms/step - loss: 0.7715 - accuracy: 0.7324 - val_loss: 0.8176 - val_accuracy: 0.7173\n",
      "Epoch 46/60\n",
      "1575/1575 [==============================] - 6s 4ms/step - loss: 0.7680 - accuracy: 0.7341 - val_loss: 0.8131 - val_accuracy: 0.7154\n",
      "Epoch 47/60\n",
      "1575/1575 [==============================] - 6s 4ms/step - loss: 0.7635 - accuracy: 0.7344 - val_loss: 0.8137 - val_accuracy: 0.7139\n",
      "Epoch 48/60\n",
      "1575/1575 [==============================] - 6s 4ms/step - loss: 0.7595 - accuracy: 0.7362 - val_loss: 0.8075 - val_accuracy: 0.7184\n",
      "Epoch 49/60\n",
      "1575/1575 [==============================] - 6s 4ms/step - loss: 0.7558 - accuracy: 0.7366 - val_loss: 0.8034 - val_accuracy: 0.7207\n",
      "Epoch 50/60\n",
      "1575/1575 [==============================] - 6s 4ms/step - loss: 0.7519 - accuracy: 0.7378 - val_loss: 0.8033 - val_accuracy: 0.7163\n",
      "Epoch 51/60\n",
      "1575/1575 [==============================] - 6s 4ms/step - loss: 0.7486 - accuracy: 0.7384 - val_loss: 0.8027 - val_accuracy: 0.7177\n",
      "Epoch 52/60\n",
      "1575/1575 [==============================] - 8s 5ms/step - loss: 0.7451 - accuracy: 0.7393 - val_loss: 0.7960 - val_accuracy: 0.7175\n",
      "Epoch 53/60\n",
      "1575/1575 [==============================] - 6s 4ms/step - loss: 0.7418 - accuracy: 0.7399 - val_loss: 0.8004 - val_accuracy: 0.7146\n",
      "Epoch 54/60\n",
      "1575/1575 [==============================] - 6s 4ms/step - loss: 0.7384 - accuracy: 0.7427 - val_loss: 0.7945 - val_accuracy: 0.7202\n",
      "Epoch 55/60\n",
      "1575/1575 [==============================] - 7s 4ms/step - loss: 0.7350 - accuracy: 0.7425 - val_loss: 0.7892 - val_accuracy: 0.7204\n",
      "Epoch 56/60\n",
      "1575/1575 [==============================] - 6s 4ms/step - loss: 0.7321 - accuracy: 0.7445 - val_loss: 0.7888 - val_accuracy: 0.7198\n",
      "Epoch 57/60\n"
     ]
    },
    {
     "name": "stdout",
     "output_type": "stream",
     "text": [
      "1575/1575 [==============================] - 7s 4ms/step - loss: 0.7289 - accuracy: 0.7447 - val_loss: 0.7831 - val_accuracy: 0.7225\n",
      "Epoch 58/60\n",
      "1575/1575 [==============================] - 6s 4ms/step - loss: 0.7256 - accuracy: 0.7452 - val_loss: 0.7879 - val_accuracy: 0.7209\n",
      "Epoch 59/60\n",
      "1575/1575 [==============================] - 6s 4ms/step - loss: 0.7229 - accuracy: 0.7472 - val_loss: 0.7813 - val_accuracy: 0.7248\n",
      "Epoch 60/60\n",
      "1575/1575 [==============================] - 6s 4ms/step - loss: 0.7198 - accuracy: 0.7475 - val_loss: 0.7768 - val_accuracy: 0.7232\n"
     ]
    }
   ],
   "source": [
    "history = model.fit(X_train, y_train, epochs=60, validation_split=0.1)"
   ]
  },
  {
   "cell_type": "markdown",
   "metadata": {},
   "source": [
    "### Plotting"
   ]
  },
  {
   "cell_type": "code",
   "execution_count": 80,
   "metadata": {},
   "outputs": [
    {
     "data": {
      "image/png": "[encoded data removed]",
      "text/plain": [
       "<Figure size 576x360 with 1 Axes>"
      ]
     },
     "metadata": {
      "needs_background": "light"
     },
     "output_type": "display_data"
    }
   ],
   "source": [
    "pd.DataFrame(history.history).plot(figsize=(8, 5))\n",
    "plt.grid(True)\n",
    "plt.gca().set_ylim(0, 1) # set the vertical range to [0-1]\n",
    "plt.show()"
   ]
  },
  {
   "cell_type": "code",
   "execution_count": 5,
   "metadata": {},
   "outputs": [
    {
     "data": {
      "image/png": "[encoded data removed]",
      "text/plain": [
       "<Figure size 432x288 with 2 Axes>"
      ]
     },
     "metadata": {
      "needs_background": "light"
     },
     "output_type": "display_data"
    }
   ],
   "source": [
    "data = getData(\"/home/asanka/Desktop/smartphone-EM-dataset-2020-11-23/apple-iphone-4s/calandar-app.cfile\")\n",
    "\n",
    "fig = plt.figure()\n",
    "pxx, freq, t, cax = plt.specgram(data, NFFT=1024, Fs=20e6, mode='magnitude')\n",
    "fig.colorbar(cax).set_label('Intensity [dB]')\n",
    "plt.xlabel(\"Time (s)\")\n",
    "plt.ylabel(\"Frequency (Hz)\")\n",
    "plt.show()"
   ]
  },
  {
   "cell_type": "code",
   "execution_count": null,
   "metadata": {},
   "outputs": [],
   "source": []
  },
  {
   "cell_type": "code",
   "execution_count": null,
   "metadata": {},
   "outputs": [],
   "source": []
  }
 ],
 "metadata": {
  "kernelspec": {
   "display_name": "Python 3",
   "language": "python",
   "name": "python3"
  },
  "language_info": {
   "codemirror_mode": {
    "name": "ipython",
    "version": 3
   },
   "file_extension": ".py",
   "mimetype": "text/x-python",
   "name": "python",
   "nbconvert_exporter": "python",
   "pygments_lexer": "ipython3",
   "version": "3.7.7"
  }
 },
 "nbformat": 4,
 "nbformat_minor": 4
}
