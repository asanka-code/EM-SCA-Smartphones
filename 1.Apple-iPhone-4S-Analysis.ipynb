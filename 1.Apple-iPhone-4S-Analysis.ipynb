{
 "cells": [
  {
   "cell_type": "markdown",
   "metadata": {},
   "source": [
    "## Best result: 88.51%\n",
    "\n",
    "### Things to do\n",
    "\n",
    "- reduced the train size, i.e., adjusted train test split. - DONE\n",
    "- Increase the number of training samples set to 10,000 - DONE\n",
    "- reduce learning rate (from 0.001 to 0.0001) the increased back to 0.0005 - DONE\n",
    "- add extra layers to the network - NOW\n",
    "- increase the feature vector size"
   ]
  },
  {
   "cell_type": "markdown",
   "metadata": {},
   "source": [
    "### A Note on Tuning Hyperparameters\n",
    "\n",
    "The following are the hypterparameters I can tune with.\n",
    "- Number of samples per class.\n",
    "- Learning rate\n",
    "- FFT size (this may force us to change the network architecture, i.e., number of layers and number of nodes per layer.)\n",
    "- FFT overlap\n",
    "- Epoch size"
   ]
  },
  {
   "cell_type": "markdown",
   "metadata": {},
   "source": [
    "### Importing Libraries"
   ]
  },
  {
   "cell_type": "code",
   "execution_count": 1,
   "metadata": {},
   "outputs": [],
   "source": [
    "import numpy as np\n",
    "import pandas as pd\n",
    "from scipy import signal\n",
    "import matplotlib.pyplot as plt\n",
    "import tensorflow as tf\n",
    "from tensorflow import keras\n",
    "from sklearn.model_selection import train_test_split\n",
    "from sklearn.preprocessing import MinMaxScaler"
   ]
  },
  {
   "cell_type": "markdown",
   "metadata": {},
   "source": [
    "### Functions"
   ]
  },
  {
   "cell_type": "code",
   "execution_count": 2,
   "metadata": {},
   "outputs": [],
   "source": [
    "def getData(cfileName):\n",
    "    \"\"\"\n",
    "    Given a name of a *.cfile, this function extracts the interleaved\n",
    "    Inphase-Quadrature data samples and convert it into a numpy array of complex\n",
    "    data elements. *.cfile format has interleaved I and Q samples where each sample\n",
    "    is a float32 type. GNURadio Companion (GRC) scripts output data into a file\n",
    "    though a file sink block in this format.\n",
    "    Read more in SDR data types: https://github.com/miek/inspectrum\n",
    "    \"\"\"\n",
    "    # Read the *.cfile which has each element in float32 format.\n",
    "    data = np.fromfile(cfileName, dtype=\"float32\")\n",
    "    # Take each consecutive interleaved I sample and Q sample to create a single complex element.\n",
    "    data = data[0::2] + 1j*data[1::2]\n",
    "    #print(\"data type=\", type(data))\n",
    "    # Return the complex numpy array.\n",
    "    return data"
   ]
  },
  {
   "cell_type": "markdown",
   "metadata": {},
   "source": [
    "### Loading an EM Trace and Plotting"
   ]
  },
  {
   "cell_type": "markdown",
   "metadata": {},
   "source": [
    "#### Settings:"
   ]
  },
  {
   "cell_type": "code",
   "execution_count": 3,
   "metadata": {},
   "outputs": [],
   "source": [
    "# number of samples per class\n",
    "num_samp_per_class = 10000\n",
    "\n",
    "# FFT size for the STFT operation (which is same as the feature vector size)\n",
    "fft_size = feature_vector_size = 2048 #1024\n",
    "\n",
    "# number of overlapping samples for the STFT operation\n",
    "fft_overlap = 256"
   ]
  },
  {
   "cell_type": "code",
   "execution_count": 4,
   "metadata": {},
   "outputs": [],
   "source": [
    "labels = [\"calender-app\", \"camera-photo\", \"camera-video\", \"email-app\", \"gallary-app\"\n",
    "          , \"home-screen\", \"idle-device\", \"phone-app\", \"sms-app\", \"web-browser\"]"
   ]
  },
  {
   "cell_type": "markdown",
   "metadata": {},
   "source": [
    "#### Preparing the Data of Class 0"
   ]
  },
  {
   "cell_type": "code",
   "execution_count": 5,
   "metadata": {},
   "outputs": [],
   "source": [
    "class_label = 0"
   ]
  },
  {
   "cell_type": "code",
   "execution_count": 6,
   "metadata": {},
   "outputs": [],
   "source": [
    "data = getData(\"/home/asanka/Desktop/smartphone-EM-dataset-2020-11-23/apple-iphone-4s/calandar-app.cfile\")"
   ]
  },
  {
   "cell_type": "code",
   "execution_count": 7,
   "metadata": {},
   "outputs": [
    {
     "name": "stderr",
     "output_type": "stream",
     "text": [
      "/home/asanka/miniconda3/lib/python3.7/site-packages/scipy/signal/spectral.py:1812: UserWarning: Input data is complex, switching to return_onesided=False\n",
      "  warnings.warn('Input data is complex, switching to '\n"
     ]
    },
    {
     "name": "stdout",
     "output_type": "stream",
     "text": [
      "2048\n",
      "33428\n",
      "(2048, 33428)\n"
     ]
    }
   ],
   "source": [
    "f, t, Zxx = signal.stft(data, fs=20e6, nperseg=fft_size, noverlap=fft_overlap)\n",
    "print(len(f))\n",
    "print(len(t))\n",
    "print(Zxx.shape)"
   ]
  },
  {
   "cell_type": "code",
   "execution_count": 8,
   "metadata": {},
   "outputs": [],
   "source": [
    "del data"
   ]
  },
  {
   "cell_type": "code",
   "execution_count": 9,
   "metadata": {},
   "outputs": [],
   "source": [
    "Zxx = Zxx.transpose()"
   ]
  },
  {
   "cell_type": "code",
   "execution_count": 10,
   "metadata": {},
   "outputs": [],
   "source": [
    "X = Zxx[:num_samp_per_class]\n",
    "y = np.full(num_samp_per_class, class_label)\n",
    "del Zxx"
   ]
  },
  {
   "cell_type": "code",
   "execution_count": 11,
   "metadata": {},
   "outputs": [
    {
     "name": "stdout",
     "output_type": "stream",
     "text": [
      "(10000, 2048)\n",
      "(10000,)\n"
     ]
    }
   ],
   "source": [
    "print(X.shape)\n",
    "print(y.shape)"
   ]
  },
  {
   "cell_type": "markdown",
   "metadata": {},
   "source": [
    "#### Preparing the Data of Class 1"
   ]
  },
  {
   "cell_type": "code",
   "execution_count": 12,
   "metadata": {},
   "outputs": [],
   "source": [
    "class_label = 1"
   ]
  },
  {
   "cell_type": "code",
   "execution_count": 13,
   "metadata": {},
   "outputs": [],
   "source": [
    "data = getData(\"/home/asanka/Desktop/smartphone-EM-dataset-2020-11-23/apple-iphone-4s/camera-photo.cfile\")"
   ]
  },
  {
   "cell_type": "code",
   "execution_count": 14,
   "metadata": {},
   "outputs": [
    {
     "name": "stdout",
     "output_type": "stream",
     "text": [
      "2048\n",
      "38645\n",
      "(2048, 38645)\n"
     ]
    }
   ],
   "source": [
    "f, t, Zxx = signal.stft(data, fs=20e6, nperseg=fft_size, noverlap=fft_overlap)\n",
    "print(len(f))\n",
    "print(len(t))\n",
    "print(Zxx.shape)"
   ]
  },
  {
   "cell_type": "code",
   "execution_count": 15,
   "metadata": {},
   "outputs": [],
   "source": [
    "del data"
   ]
  },
  {
   "cell_type": "code",
   "execution_count": 16,
   "metadata": {},
   "outputs": [],
   "source": [
    "Zxx = Zxx.transpose()"
   ]
  },
  {
   "cell_type": "code",
   "execution_count": 17,
   "metadata": {},
   "outputs": [],
   "source": [
    "X = np.concatenate((X, Zxx[:num_samp_per_class]), axis=0) \n",
    "y = np.concatenate((y, np.full(num_samp_per_class, class_label)), axis=0)\n",
    "del Zxx"
   ]
  },
  {
   "cell_type": "code",
   "execution_count": 18,
   "metadata": {},
   "outputs": [
    {
     "name": "stdout",
     "output_type": "stream",
     "text": [
      "(20000, 2048)\n",
      "(20000,)\n"
     ]
    }
   ],
   "source": [
    "print(X.shape)\n",
    "print(y.shape)"
   ]
  },
  {
   "cell_type": "markdown",
   "metadata": {},
   "source": [
    "#### Preparing the Data of Class 2"
   ]
  },
  {
   "cell_type": "code",
   "execution_count": 19,
   "metadata": {},
   "outputs": [],
   "source": [
    "class_label = 2"
   ]
  },
  {
   "cell_type": "code",
   "execution_count": 20,
   "metadata": {},
   "outputs": [],
   "source": [
    "data = getData(\"/home/asanka/Desktop/smartphone-EM-dataset-2020-11-23/apple-iphone-4s/camera-video.cfile\")"
   ]
  },
  {
   "cell_type": "code",
   "execution_count": 21,
   "metadata": {},
   "outputs": [
    {
     "name": "stdout",
     "output_type": "stream",
     "text": [
      "2048\n",
      "48315\n",
      "(2048, 48315)\n"
     ]
    }
   ],
   "source": [
    "f, t, Zxx = signal.stft(data, fs=20e6, nperseg=fft_size, noverlap=fft_overlap)\n",
    "print(len(f))\n",
    "print(len(t))\n",
    "print(Zxx.shape)"
   ]
  },
  {
   "cell_type": "code",
   "execution_count": 22,
   "metadata": {},
   "outputs": [],
   "source": [
    "del data"
   ]
  },
  {
   "cell_type": "code",
   "execution_count": 23,
   "metadata": {},
   "outputs": [],
   "source": [
    "Zxx = Zxx.transpose()"
   ]
  },
  {
   "cell_type": "code",
   "execution_count": 24,
   "metadata": {},
   "outputs": [],
   "source": [
    "X = np.concatenate((X, Zxx[:num_samp_per_class]), axis=0) \n",
    "y = np.concatenate((y, np.full(num_samp_per_class, class_label)), axis=0)\n",
    "del Zxx"
   ]
  },
  {
   "cell_type": "code",
   "execution_count": 25,
   "metadata": {},
   "outputs": [
    {
     "name": "stdout",
     "output_type": "stream",
     "text": [
      "(30000, 2048)\n",
      "(30000,)\n"
     ]
    }
   ],
   "source": [
    "print(X.shape)\n",
    "print(y.shape)"
   ]
  },
  {
   "cell_type": "markdown",
   "metadata": {},
   "source": [
    "#### Preparing the Data of Class 3"
   ]
  },
  {
   "cell_type": "code",
   "execution_count": 26,
   "metadata": {},
   "outputs": [],
   "source": [
    "class_label = 3"
   ]
  },
  {
   "cell_type": "code",
   "execution_count": 27,
   "metadata": {},
   "outputs": [],
   "source": [
    "data = getData(\"/home/asanka/Desktop/smartphone-EM-dataset-2020-11-23/apple-iphone-4s/email-app.cfile\")"
   ]
  },
  {
   "cell_type": "code",
   "execution_count": 28,
   "metadata": {},
   "outputs": [
    {
     "name": "stdout",
     "output_type": "stream",
     "text": [
      "2048\n",
      "36129\n",
      "(2048, 36129)\n"
     ]
    }
   ],
   "source": [
    "f, t, Zxx = signal.stft(data, fs=20e6, nperseg=fft_size, noverlap=fft_overlap)\n",
    "print(len(f))\n",
    "print(len(t))\n",
    "print(Zxx.shape)"
   ]
  },
  {
   "cell_type": "code",
   "execution_count": 29,
   "metadata": {},
   "outputs": [],
   "source": [
    "del data"
   ]
  },
  {
   "cell_type": "code",
   "execution_count": 30,
   "metadata": {},
   "outputs": [],
   "source": [
    "Zxx = Zxx.transpose()"
   ]
  },
  {
   "cell_type": "code",
   "execution_count": 31,
   "metadata": {},
   "outputs": [],
   "source": [
    "X = np.concatenate((X, Zxx[:num_samp_per_class]), axis=0) \n",
    "y = np.concatenate((y, np.full(num_samp_per_class, class_label)), axis=0)\n",
    "del Zxx"
   ]
  },
  {
   "cell_type": "code",
   "execution_count": 32,
   "metadata": {},
   "outputs": [
    {
     "name": "stdout",
     "output_type": "stream",
     "text": [
      "(40000, 2048)\n",
      "(40000,)\n"
     ]
    }
   ],
   "source": [
    "print(X.shape)\n",
    "print(y.shape)"
   ]
  },
  {
   "cell_type": "markdown",
   "metadata": {},
   "source": [
    "#### Preparing the Data of Class 4"
   ]
  },
  {
   "cell_type": "code",
   "execution_count": 33,
   "metadata": {},
   "outputs": [],
   "source": [
    "class_label = 4"
   ]
  },
  {
   "cell_type": "code",
   "execution_count": 34,
   "metadata": {},
   "outputs": [],
   "source": [
    "data = getData(\"/home/asanka/Desktop/smartphone-EM-dataset-2020-11-23/apple-iphone-4s/gallary-app.cfile\")"
   ]
  },
  {
   "cell_type": "code",
   "execution_count": 35,
   "metadata": {},
   "outputs": [
    {
     "name": "stdout",
     "output_type": "stream",
     "text": [
      "2048\n",
      "40949\n",
      "(2048, 40949)\n"
     ]
    }
   ],
   "source": [
    "f, t, Zxx = signal.stft(data, fs=20e6, nperseg=fft_size, noverlap=fft_overlap)\n",
    "print(len(f))\n",
    "print(len(t))\n",
    "print(Zxx.shape)"
   ]
  },
  {
   "cell_type": "code",
   "execution_count": 36,
   "metadata": {},
   "outputs": [],
   "source": [
    "del data"
   ]
  },
  {
   "cell_type": "code",
   "execution_count": 37,
   "metadata": {},
   "outputs": [],
   "source": [
    "Zxx = Zxx.transpose()"
   ]
  },
  {
   "cell_type": "code",
   "execution_count": 38,
   "metadata": {},
   "outputs": [],
   "source": [
    "X = np.concatenate((X, Zxx[:num_samp_per_class]), axis=0) \n",
    "y = np.concatenate((y, np.full(num_samp_per_class, class_label)), axis=0)\n",
    "del Zxx"
   ]
  },
  {
   "cell_type": "code",
   "execution_count": 39,
   "metadata": {},
   "outputs": [
    {
     "name": "stdout",
     "output_type": "stream",
     "text": [
      "(50000, 2048)\n",
      "(50000,)\n"
     ]
    }
   ],
   "source": [
    "print(X.shape)\n",
    "print(y.shape)"
   ]
  },
  {
   "cell_type": "markdown",
   "metadata": {},
   "source": [
    "#### Preparing the Data of Class 5"
   ]
  },
  {
   "cell_type": "code",
   "execution_count": 40,
   "metadata": {},
   "outputs": [],
   "source": [
    "class_label = 5"
   ]
  },
  {
   "cell_type": "code",
   "execution_count": 41,
   "metadata": {},
   "outputs": [],
   "source": [
    "data = getData(\"/home/asanka/Desktop/smartphone-EM-dataset-2020-11-23/apple-iphone-4s/home-screen.cfile\")"
   ]
  },
  {
   "cell_type": "code",
   "execution_count": 42,
   "metadata": {},
   "outputs": [
    {
     "name": "stdout",
     "output_type": "stream",
     "text": [
      "2048\n",
      "38694\n",
      "(2048, 38694)\n"
     ]
    }
   ],
   "source": [
    "f, t, Zxx = signal.stft(data, fs=20e6, nperseg=fft_size, noverlap=fft_overlap)\n",
    "print(len(f))\n",
    "print(len(t))\n",
    "print(Zxx.shape)"
   ]
  },
  {
   "cell_type": "code",
   "execution_count": 43,
   "metadata": {},
   "outputs": [],
   "source": [
    "del data"
   ]
  },
  {
   "cell_type": "code",
   "execution_count": 44,
   "metadata": {},
   "outputs": [],
   "source": [
    "Zxx = Zxx.transpose()"
   ]
  },
  {
   "cell_type": "code",
   "execution_count": 45,
   "metadata": {},
   "outputs": [],
   "source": [
    "X = np.concatenate((X, Zxx[:num_samp_per_class]), axis=0) \n",
    "y = np.concatenate((y, np.full(num_samp_per_class, class_label)), axis=0)\n",
    "del Zxx"
   ]
  },
  {
   "cell_type": "code",
   "execution_count": 46,
   "metadata": {},
   "outputs": [
    {
     "name": "stdout",
     "output_type": "stream",
     "text": [
      "(60000, 2048)\n",
      "(60000,)\n"
     ]
    }
   ],
   "source": [
    "print(X.shape)\n",
    "print(y.shape)"
   ]
  },
  {
   "cell_type": "markdown",
   "metadata": {},
   "source": [
    "#### Preparing the Data of Class 6"
   ]
  },
  {
   "cell_type": "code",
   "execution_count": 47,
   "metadata": {},
   "outputs": [],
   "source": [
    "class_label = 6"
   ]
  },
  {
   "cell_type": "code",
   "execution_count": 48,
   "metadata": {},
   "outputs": [],
   "source": [
    "data = getData(\"/home/asanka/Desktop/smartphone-EM-dataset-2020-11-23/apple-iphone-4s/idle.cfile\")"
   ]
  },
  {
   "cell_type": "code",
   "execution_count": 49,
   "metadata": {},
   "outputs": [
    {
     "name": "stdout",
     "output_type": "stream",
     "text": [
      "2048\n",
      "42242\n",
      "(2048, 42242)\n"
     ]
    }
   ],
   "source": [
    "f, t, Zxx = signal.stft(data, fs=20e6, nperseg=fft_size, noverlap=fft_overlap)\n",
    "print(len(f))\n",
    "print(len(t))\n",
    "print(Zxx.shape)"
   ]
  },
  {
   "cell_type": "code",
   "execution_count": 50,
   "metadata": {},
   "outputs": [],
   "source": [
    "del data"
   ]
  },
  {
   "cell_type": "code",
   "execution_count": 51,
   "metadata": {},
   "outputs": [],
   "source": [
    "Zxx = Zxx.transpose()"
   ]
  },
  {
   "cell_type": "code",
   "execution_count": 52,
   "metadata": {},
   "outputs": [],
   "source": [
    "X = np.concatenate((X, Zxx[:num_samp_per_class]), axis=0) \n",
    "y = np.concatenate((y, np.full(num_samp_per_class, class_label)), axis=0)\n",
    "del Zxx"
   ]
  },
  {
   "cell_type": "code",
   "execution_count": 53,
   "metadata": {},
   "outputs": [
    {
     "name": "stdout",
     "output_type": "stream",
     "text": [
      "(70000, 2048)\n",
      "(70000,)\n"
     ]
    }
   ],
   "source": [
    "print(X.shape)\n",
    "print(y.shape)"
   ]
  },
  {
   "cell_type": "markdown",
   "metadata": {},
   "source": [
    "#### Preparing the Data of Class 7"
   ]
  },
  {
   "cell_type": "code",
   "execution_count": 54,
   "metadata": {},
   "outputs": [],
   "source": [
    "class_label = 7"
   ]
  },
  {
   "cell_type": "code",
   "execution_count": 55,
   "metadata": {},
   "outputs": [],
   "source": [
    "data = getData(\"/home/asanka/Desktop/smartphone-EM-dataset-2020-11-23/apple-iphone-4s/phone-app.cfile\")"
   ]
  },
  {
   "cell_type": "code",
   "execution_count": 56,
   "metadata": {},
   "outputs": [
    {
     "name": "stdout",
     "output_type": "stream",
     "text": [
      "2048\n",
      "34233\n",
      "(2048, 34233)\n"
     ]
    }
   ],
   "source": [
    "f, t, Zxx = signal.stft(data, fs=20e6, nperseg=fft_size, noverlap=fft_overlap)\n",
    "print(len(f))\n",
    "print(len(t))\n",
    "print(Zxx.shape)"
   ]
  },
  {
   "cell_type": "code",
   "execution_count": 57,
   "metadata": {},
   "outputs": [],
   "source": [
    "del data"
   ]
  },
  {
   "cell_type": "code",
   "execution_count": 58,
   "metadata": {},
   "outputs": [],
   "source": [
    "Zxx = Zxx.transpose()"
   ]
  },
  {
   "cell_type": "code",
   "execution_count": 59,
   "metadata": {},
   "outputs": [],
   "source": [
    "X = np.concatenate((X, Zxx[:num_samp_per_class]), axis=0) \n",
    "y = np.concatenate((y, np.full(num_samp_per_class, class_label)), axis=0)\n",
    "del Zxx"
   ]
  },
  {
   "cell_type": "code",
   "execution_count": 60,
   "metadata": {},
   "outputs": [
    {
     "name": "stdout",
     "output_type": "stream",
     "text": [
      "(80000, 2048)\n",
      "(80000,)\n"
     ]
    }
   ],
   "source": [
    "print(X.shape)\n",
    "print(y.shape)"
   ]
  },
  {
   "cell_type": "markdown",
   "metadata": {},
   "source": [
    "#### Preparing the Data of Class 8"
   ]
  },
  {
   "cell_type": "code",
   "execution_count": 61,
   "metadata": {},
   "outputs": [],
   "source": [
    "class_label = 8"
   ]
  },
  {
   "cell_type": "code",
   "execution_count": 62,
   "metadata": {},
   "outputs": [],
   "source": [
    "data = getData(\"/home/asanka/Desktop/smartphone-EM-dataset-2020-11-23/apple-iphone-4s/sms-app.cfile\")"
   ]
  },
  {
   "cell_type": "code",
   "execution_count": 63,
   "metadata": {},
   "outputs": [
    {
     "name": "stdout",
     "output_type": "stream",
     "text": [
      "2048\n",
      "42207\n",
      "(2048, 42207)\n"
     ]
    }
   ],
   "source": [
    "f, t, Zxx = signal.stft(data, fs=20e6, nperseg=fft_size, noverlap=fft_overlap)\n",
    "print(len(f))\n",
    "print(len(t))\n",
    "print(Zxx.shape)"
   ]
  },
  {
   "cell_type": "code",
   "execution_count": 64,
   "metadata": {},
   "outputs": [],
   "source": [
    "del data"
   ]
  },
  {
   "cell_type": "code",
   "execution_count": 65,
   "metadata": {},
   "outputs": [],
   "source": [
    "Zxx = Zxx.transpose()"
   ]
  },
  {
   "cell_type": "code",
   "execution_count": 66,
   "metadata": {},
   "outputs": [],
   "source": [
    "X = np.concatenate((X, Zxx[:num_samp_per_class]), axis=0) \n",
    "y = np.concatenate((y, np.full(num_samp_per_class, class_label)), axis=0)\n",
    "del Zxx"
   ]
  },
  {
   "cell_type": "code",
   "execution_count": 67,
   "metadata": {},
   "outputs": [
    {
     "name": "stdout",
     "output_type": "stream",
     "text": [
      "(90000, 2048)\n",
      "(90000,)\n"
     ]
    }
   ],
   "source": [
    "print(X.shape)\n",
    "print(y.shape)"
   ]
  },
  {
   "cell_type": "markdown",
   "metadata": {},
   "source": [
    "#### Preparing the Data of Class 9"
   ]
  },
  {
   "cell_type": "code",
   "execution_count": 68,
   "metadata": {},
   "outputs": [],
   "source": [
    "class_label = 9"
   ]
  },
  {
   "cell_type": "code",
   "execution_count": 69,
   "metadata": {},
   "outputs": [],
   "source": [
    "data = getData(\"/home/asanka/Desktop/smartphone-EM-dataset-2020-11-23/apple-iphone-4s/web-browser-app.cfile\")"
   ]
  },
  {
   "cell_type": "code",
   "execution_count": 70,
   "metadata": {},
   "outputs": [
    {
     "name": "stdout",
     "output_type": "stream",
     "text": [
      "2048\n",
      "33209\n",
      "(2048, 33209)\n"
     ]
    }
   ],
   "source": [
    "f, t, Zxx = signal.stft(data, fs=20e6, nperseg=fft_size, noverlap=fft_overlap)\n",
    "print(len(f))\n",
    "print(len(t))\n",
    "print(Zxx.shape)"
   ]
  },
  {
   "cell_type": "code",
   "execution_count": 71,
   "metadata": {},
   "outputs": [],
   "source": [
    "del data"
   ]
  },
  {
   "cell_type": "code",
   "execution_count": 72,
   "metadata": {},
   "outputs": [],
   "source": [
    "Zxx = Zxx.transpose()"
   ]
  },
  {
   "cell_type": "code",
   "execution_count": 73,
   "metadata": {},
   "outputs": [],
   "source": [
    "X = np.concatenate((X, Zxx[:num_samp_per_class]), axis=0) \n",
    "y = np.concatenate((y, np.full(num_samp_per_class, class_label)), axis=0)\n",
    "del Zxx"
   ]
  },
  {
   "cell_type": "code",
   "execution_count": 74,
   "metadata": {},
   "outputs": [
    {
     "name": "stdout",
     "output_type": "stream",
     "text": [
      "(100000, 2048)\n",
      "(100000,)\n"
     ]
    }
   ],
   "source": [
    "print(X.shape)\n",
    "print(y.shape)"
   ]
  },
  {
   "cell_type": "markdown",
   "metadata": {},
   "source": [
    "### Building the Model"
   ]
  },
  {
   "cell_type": "code",
   "execution_count": 75,
   "metadata": {},
   "outputs": [
    {
     "name": "stdout",
     "output_type": "stream",
     "text": [
      "[0.04209983 0.02760862 0.02790638 ... 0.02090047 0.02404625 0.03802438]\n"
     ]
    }
   ],
   "source": [
    "X = abs(X)\n",
    "\n",
    "# scaling the features (only real part of the data can be used)\n",
    "scaler = MinMaxScaler()\n",
    "scaler.fit(X)\n",
    "print(scaler.data_max_)\n",
    "X = scaler.transform(X)"
   ]
  },
  {
   "cell_type": "code",
   "execution_count": 76,
   "metadata": {},
   "outputs": [],
   "source": [
    "# Split data to train and test sets\n",
    "X_train, X_test, y_train, y_test = train_test_split(X, y, test_size=0.1, random_state=0)"
   ]
  },
  {
   "cell_type": "code",
   "execution_count": 77,
   "metadata": {},
   "outputs": [
    {
     "name": "stdout",
     "output_type": "stream",
     "text": [
      "Model: \"sequential\"\n",
      "_________________________________________________________________\n",
      "Layer (type)                 Output Shape              Param #   \n",
      "=================================================================\n",
      "dense (Dense)                (None, 1400)              2868600   \n",
      "_________________________________________________________________\n",
      "dense_1 (Dense)              (None, 800)               1120800   \n",
      "_________________________________________________________________\n",
      "dense_2 (Dense)              (None, 500)               400500    \n",
      "_________________________________________________________________\n",
      "dense_3 (Dense)              (None, 200)               100200    \n",
      "_________________________________________________________________\n",
      "dense_4 (Dense)              (None, 100)               20100     \n",
      "_________________________________________________________________\n",
      "dense_5 (Dense)              (None, 10)                1010      \n",
      "=================================================================\n",
      "Total params: 4,511,210\n",
      "Trainable params: 4,511,210\n",
      "Non-trainable params: 0\n",
      "_________________________________________________________________\n"
     ]
    }
   ],
   "source": [
    "model = keras.models.Sequential()\n",
    "model.add(keras.layers.Input(shape=(feature_vector_size,)))\n",
    "\n",
    "model.add(keras.layers.Dense(1400, activation=\"relu\"))\n",
    "\n",
    "model.add(keras.layers.Dense(800, activation=\"relu\"))\n",
    "model.add(keras.layers.Dense(500, activation=\"relu\"))\n",
    "model.add(keras.layers.Dense(200, activation=\"relu\"))\n",
    "model.add(keras.layers.Dense(100, activation=\"relu\"))\n",
    "#model.add(keras.layers.Dense(50, activation=\"relu\"))\n",
    "model.add(keras.layers.Dense(10, activation=\"softmax\"))\n",
    "model.summary()"
   ]
  },
  {
   "cell_type": "code",
   "execution_count": 80,
   "metadata": {},
   "outputs": [],
   "source": [
    "opt = keras.optimizers.SGD(learning_rate=0.001)\n",
    "model.compile(loss=\"sparse_categorical_crossentropy\", optimizer=opt, metrics=[\"accuracy\"])\n",
    "#model.compile(loss=\"sparse_categorical_crossentropy\", optimizer=\"sgd\", metrics=[\"accuracy\"])"
   ]
  },
  {
   "cell_type": "code",
   "execution_count": 81,
   "metadata": {},
   "outputs": [
    {
     "name": "stdout",
     "output_type": "stream",
     "text": [
      "Epoch 1/30\n",
      "2532/2532 [==============================] - 50s 20ms/step - loss: 2.2189 - accuracy: 0.2251 - val_loss: 2.1846 - val_accuracy: 0.2260\n",
      "Epoch 2/30\n",
      "2532/2532 [==============================] - 52s 20ms/step - loss: 2.1213 - accuracy: 0.3039 - val_loss: 2.0518 - val_accuracy: 0.3546\n",
      "Epoch 3/30\n",
      "2532/2532 [==============================] - 51s 20ms/step - loss: 1.9801 - accuracy: 0.3536 - val_loss: 1.9232 - val_accuracy: 0.3221\n",
      "Epoch 4/30\n",
      "2532/2532 [==============================] - 51s 20ms/step - loss: 1.8576 - accuracy: 0.3535 - val_loss: 1.7887 - val_accuracy: 0.3731\n",
      "Epoch 5/30\n",
      "2532/2532 [==============================] - 52s 21ms/step - loss: 1.6859 - accuracy: 0.4163 - val_loss: 1.5862 - val_accuracy: 0.4149\n",
      "Epoch 6/30\n",
      "2532/2532 [==============================] - 52s 21ms/step - loss: 1.4916 - accuracy: 0.4763 - val_loss: 1.4187 - val_accuracy: 0.4858\n",
      "Epoch 7/30\n",
      "2532/2532 [==============================] - 52s 21ms/step - loss: 1.3630 - accuracy: 0.5096 - val_loss: 1.3173 - val_accuracy: 0.4992\n",
      "Epoch 8/30\n",
      "2532/2532 [==============================] - 53s 21ms/step - loss: 1.2936 - accuracy: 0.5273 - val_loss: 1.3115 - val_accuracy: 0.5169\n",
      "Epoch 9/30\n",
      "2532/2532 [==============================] - 53s 21ms/step - loss: 1.2506 - accuracy: 0.5390 - val_loss: 1.2259 - val_accuracy: 0.5531\n",
      "Epoch 10/30\n",
      "2532/2532 [==============================] - 53s 21ms/step - loss: 1.2174 - accuracy: 0.5609 - val_loss: 1.1946 - val_accuracy: 0.5507\n",
      "Epoch 11/30\n",
      "2532/2532 [==============================] - 53s 21ms/step - loss: 1.1840 - accuracy: 0.5862 - val_loss: 1.1805 - val_accuracy: 0.5953\n",
      "Epoch 12/30\n",
      "2532/2532 [==============================] - 53s 21ms/step - loss: 1.1445 - accuracy: 0.6235 - val_loss: 1.1368 - val_accuracy: 0.5879\n",
      "Epoch 13/30\n",
      "2532/2532 [==============================] - 54s 21ms/step - loss: 1.0903 - accuracy: 0.6659 - val_loss: 1.0925 - val_accuracy: 0.6669\n",
      "Epoch 14/30\n",
      "2532/2532 [==============================] - 53s 21ms/step - loss: 1.0004 - accuracy: 0.7072 - val_loss: 0.9371 - val_accuracy: 0.7288\n",
      "Epoch 15/30\n",
      "2532/2532 [==============================] - 53s 21ms/step - loss: 0.8592 - accuracy: 0.7433 - val_loss: 0.7881 - val_accuracy: 0.7623\n",
      "Epoch 16/30\n",
      "2532/2532 [==============================] - 54s 21ms/step - loss: 0.7171 - accuracy: 0.7777 - val_loss: 0.7141 - val_accuracy: 0.7611\n",
      "Epoch 17/30\n",
      "2532/2532 [==============================] - 54s 21ms/step - loss: 0.6264 - accuracy: 0.8046 - val_loss: 0.6171 - val_accuracy: 0.7993\n",
      "Epoch 18/30\n",
      "2532/2532 [==============================] - 53s 21ms/step - loss: 0.5700 - accuracy: 0.8192 - val_loss: 0.5565 - val_accuracy: 0.8218\n",
      "Epoch 19/30\n",
      "2532/2532 [==============================] - 53s 21ms/step - loss: 0.5320 - accuracy: 0.8302 - val_loss: 0.5307 - val_accuracy: 0.8256\n",
      "Epoch 20/30\n",
      "2532/2532 [==============================] - 53s 21ms/step - loss: 0.5030 - accuracy: 0.8377 - val_loss: 0.5433 - val_accuracy: 0.8110\n",
      "Epoch 21/30\n",
      "2532/2532 [==============================] - 53s 21ms/step - loss: 0.4803 - accuracy: 0.8436 - val_loss: 0.4900 - val_accuracy: 0.8364\n",
      "Epoch 22/30\n",
      "2532/2532 [==============================] - 53s 21ms/step - loss: 0.4617 - accuracy: 0.8475 - val_loss: 0.5011 - val_accuracy: 0.8251\n",
      "Epoch 23/30\n",
      "2532/2532 [==============================] - 54s 21ms/step - loss: 0.4455 - accuracy: 0.8520 - val_loss: 0.5203 - val_accuracy: 0.8151\n",
      "Epoch 24/30\n",
      "2532/2532 [==============================] - 53s 21ms/step - loss: 0.4316 - accuracy: 0.8557 - val_loss: 0.4378 - val_accuracy: 0.8518\n",
      "Epoch 25/30\n",
      "2532/2532 [==============================] - 53s 21ms/step - loss: 0.4193 - accuracy: 0.8585 - val_loss: 0.4539 - val_accuracy: 0.8442\n",
      "Epoch 26/30\n",
      "2532/2532 [==============================] - 53s 21ms/step - loss: 0.4077 - accuracy: 0.8613 - val_loss: 0.4287 - val_accuracy: 0.8532\n",
      "Epoch 27/30\n",
      "2532/2532 [==============================] - 53s 21ms/step - loss: 0.3974 - accuracy: 0.8641 - val_loss: 0.4232 - val_accuracy: 0.8517\n",
      "Epoch 28/30\n",
      "2532/2532 [==============================] - 54s 21ms/step - loss: 0.3889 - accuracy: 0.8657 - val_loss: 0.4031 - val_accuracy: 0.8586\n",
      "Epoch 29/30\n",
      "2532/2532 [==============================] - 54s 21ms/step - loss: 0.3808 - accuracy: 0.8682 - val_loss: 0.4023 - val_accuracy: 0.8619\n",
      "Epoch 30/30\n",
      "2532/2532 [==============================] - 54s 21ms/step - loss: 0.3726 - accuracy: 0.8695 - val_loss: 0.3899 - val_accuracy: 0.8659\n"
     ]
    }
   ],
   "source": [
    "#history = model.fit(X_train, y_train, epochs=30, validation_data=(X_test, y_test))\n",
    "history = model.fit(X_train, y_train, epochs=30, validation_split=0.1)"
   ]
  },
  {
   "cell_type": "markdown",
   "metadata": {},
   "source": [
    "### Plotting"
   ]
  },
  {
   "cell_type": "code",
   "execution_count": 82,
   "metadata": {},
   "outputs": [
    {
     "data": {
      "image/png": "[encoded data removed]",
      "text/plain": [
       "<Figure size 576x360 with 1 Axes>"
      ]
     },
     "metadata": {
      "needs_background": "light"
     },
     "output_type": "display_data"
    }
   ],
   "source": [
    "pd.DataFrame(history.history).plot(figsize=(8, 5))\n",
    "plt.grid(True)\n",
    "plt.gca().set_ylim(0, 1) # set the vertical range to [0-1]\n",
    "plt.show()"
   ]
  },
  {
   "cell_type": "code",
   "execution_count": 83,
   "metadata": {},
   "outputs": [
    {
     "name": "stdout",
     "output_type": "stream",
     "text": [
      "Epoch 1/10\n",
      "2532/2532 [==============================] - 52s 20ms/step - loss: 0.3647 - accuracy: 0.8730 - val_loss: 0.3832 - val_accuracy: 0.8581\n",
      "Epoch 2/10\n",
      "2532/2532 [==============================] - 52s 20ms/step - loss: 0.3585 - accuracy: 0.8740 - val_loss: 0.3864 - val_accuracy: 0.8571\n",
      "Epoch 3/10\n",
      "2532/2532 [==============================] - 51s 20ms/step - loss: 0.3527 - accuracy: 0.8749 - val_loss: 0.3527 - val_accuracy: 0.8708\n",
      "Epoch 4/10\n",
      "2532/2532 [==============================] - 51s 20ms/step - loss: 0.3467 - accuracy: 0.8770 - val_loss: 0.3524 - val_accuracy: 0.8713\n",
      "Epoch 5/10\n",
      "2532/2532 [==============================] - 51s 20ms/step - loss: 0.3408 - accuracy: 0.8783 - val_loss: 0.3754 - val_accuracy: 0.8656\n",
      "Epoch 6/10\n",
      "2532/2532 [==============================] - 52s 21ms/step - loss: 0.3363 - accuracy: 0.8788 - val_loss: 0.4890 - val_accuracy: 0.8152\n",
      "Epoch 7/10\n",
      "2532/2532 [==============================] - 53s 21ms/step - loss: 0.3313 - accuracy: 0.8811 - val_loss: 0.3385 - val_accuracy: 0.8759\n",
      "Epoch 8/10\n",
      "2532/2532 [==============================] - 52s 21ms/step - loss: 0.3273 - accuracy: 0.8814 - val_loss: 0.4267 - val_accuracy: 0.8352\n",
      "Epoch 9/10\n",
      "2532/2532 [==============================] - 52s 21ms/step - loss: 0.3229 - accuracy: 0.8830 - val_loss: 0.4363 - val_accuracy: 0.8332\n",
      "Epoch 10/10\n",
      "2532/2532 [==============================] - 53s 21ms/step - loss: 0.3189 - accuracy: 0.8847 - val_loss: 0.3348 - val_accuracy: 0.8770\n"
     ]
    }
   ],
   "source": [
    "history = model.fit(X_train, y_train, epochs=10, validation_split=0.1)"
   ]
  },
  {
   "cell_type": "code",
   "execution_count": 84,
   "metadata": {},
   "outputs": [
    {
     "data": {
      "image/png": "[encoded data removed]",
      "text/plain": [
       "<Figure size 576x360 with 1 Axes>"
      ]
     },
     "metadata": {
      "needs_background": "light"
     },
     "output_type": "display_data"
    }
   ],
   "source": [
    "pd.DataFrame(history.history).plot(figsize=(8, 5))\n",
    "plt.grid(True)\n",
    "plt.gca().set_ylim(0, 1) # set the vertical range to [0-1]\n",
    "plt.show()"
   ]
  },
  {
   "cell_type": "code",
   "execution_count": 85,
   "metadata": {},
   "outputs": [
    {
     "name": "stdout",
     "output_type": "stream",
     "text": [
      "Epoch 1/10\n",
      "2532/2532 [==============================] - 52s 20ms/step - loss: 0.3149 - accuracy: 0.8860 - val_loss: 0.3385 - val_accuracy: 0.8710\n",
      "Epoch 2/10\n",
      "2532/2532 [==============================] - 52s 20ms/step - loss: 0.3110 - accuracy: 0.8867 - val_loss: 0.3427 - val_accuracy: 0.8727\n",
      "Epoch 3/10\n",
      "2532/2532 [==============================] - 52s 20ms/step - loss: 0.3076 - accuracy: 0.8879 - val_loss: 0.3283 - val_accuracy: 0.8782\n",
      "Epoch 4/10\n",
      "2532/2532 [==============================] - 52s 21ms/step - loss: 0.3043 - accuracy: 0.8889 - val_loss: 0.3214 - val_accuracy: 0.8808\n",
      "Epoch 5/10\n",
      "2532/2532 [==============================] - 51s 20ms/step - loss: 0.3013 - accuracy: 0.8910 - val_loss: 0.3272 - val_accuracy: 0.8788\n",
      "Epoch 6/10\n",
      "2532/2532 [==============================] - 52s 20ms/step - loss: 0.2994 - accuracy: 0.8902 - val_loss: 0.3397 - val_accuracy: 0.8712\n",
      "Epoch 7/10\n",
      "2532/2532 [==============================] - 52s 21ms/step - loss: 0.2964 - accuracy: 0.8917 - val_loss: 0.3244 - val_accuracy: 0.8778\n",
      "Epoch 8/10\n",
      "2532/2532 [==============================] - 52s 21ms/step - loss: 0.2929 - accuracy: 0.8927 - val_loss: 0.3105 - val_accuracy: 0.8848\n",
      "Epoch 9/10\n",
      "2532/2532 [==============================] - 53s 21ms/step - loss: 0.2909 - accuracy: 0.8935 - val_loss: 0.3153 - val_accuracy: 0.8851\n",
      "Epoch 10/10\n",
      "2532/2532 [==============================] - 53s 21ms/step - loss: 0.2886 - accuracy: 0.8945 - val_loss: 0.3099 - val_accuracy: 0.8850\n"
     ]
    }
   ],
   "source": [
    "history = model.fit(X_train, y_train, epochs=10, validation_split=0.1)"
   ]
  },
  {
   "cell_type": "code",
   "execution_count": 86,
   "metadata": {},
   "outputs": [
    {
     "data": {
      "image/png": "[encoded data removed]",
      "text/plain": [
       "<Figure size 576x360 with 1 Axes>"
      ]
     },
     "metadata": {
      "needs_background": "light"
     },
     "output_type": "display_data"
    }
   ],
   "source": [
    "pd.DataFrame(history.history).plot(figsize=(8, 5))\n",
    "plt.grid(True)\n",
    "plt.gca().set_ylim(0, 1) # set the vertical range to [0-1]\n",
    "plt.show()"
   ]
  },
  {
   "cell_type": "code",
   "execution_count": 87,
   "metadata": {},
   "outputs": [
    {
     "name": "stdout",
     "output_type": "stream",
     "text": [
      "Epoch 1/10\n",
      "2532/2532 [==============================] - 52s 20ms/step - loss: 0.2865 - accuracy: 0.8943 - val_loss: 0.3234 - val_accuracy: 0.8778\n",
      "Epoch 2/10\n",
      "2532/2532 [==============================] - 52s 21ms/step - loss: 0.2843 - accuracy: 0.8955 - val_loss: 0.3187 - val_accuracy: 0.8801\n",
      "Epoch 3/10\n",
      "2532/2532 [==============================] - 58s 23ms/step - loss: 0.2820 - accuracy: 0.8956 - val_loss: 0.3974 - val_accuracy: 0.8497\n",
      "Epoch 4/10\n",
      "2532/2532 [==============================] - 59s 23ms/step - loss: 0.2800 - accuracy: 0.8964 - val_loss: 0.3380 - val_accuracy: 0.8728\n",
      "Epoch 5/10\n",
      "2532/2532 [==============================] - 52s 20ms/step - loss: 0.2786 - accuracy: 0.8963 - val_loss: 0.3086 - val_accuracy: 0.8846\n",
      "Epoch 6/10\n",
      "2532/2532 [==============================] - 52s 20ms/step - loss: 0.2753 - accuracy: 0.8992 - val_loss: 0.3330 - val_accuracy: 0.8771\n",
      "Epoch 7/10\n",
      "2532/2532 [==============================] - 52s 20ms/step - loss: 0.2746 - accuracy: 0.8990 - val_loss: 0.4206 - val_accuracy: 0.8443\n",
      "Epoch 8/10\n",
      "2532/2532 [==============================] - 52s 21ms/step - loss: 0.2727 - accuracy: 0.8992 - val_loss: 0.3359 - val_accuracy: 0.8742\n",
      "Epoch 9/10\n",
      "2532/2532 [==============================] - 52s 20ms/step - loss: 0.2706 - accuracy: 0.8997 - val_loss: 0.3016 - val_accuracy: 0.8836\n",
      "Epoch 10/10\n",
      "2532/2532 [==============================] - 53s 21ms/step - loss: 0.2692 - accuracy: 0.9005 - val_loss: 0.3321 - val_accuracy: 0.8763\n"
     ]
    }
   ],
   "source": [
    "history = model.fit(X_train, y_train, epochs=10, validation_split=0.1)"
   ]
  },
  {
   "cell_type": "code",
   "execution_count": 88,
   "metadata": {},
   "outputs": [
    {
     "data": {
      "image/png": "[encoded data removed]",
      "text/plain": [
       "<Figure size 576x360 with 1 Axes>"
      ]
     },
     "metadata": {
      "needs_background": "light"
     },
     "output_type": "display_data"
    }
   ],
   "source": [
    "pd.DataFrame(history.history).plot(figsize=(8, 5))\n",
    "plt.grid(True)\n",
    "plt.gca().set_ylim(0, 1) # set the vertical range to [0-1]\n",
    "plt.show()"
   ]
  },
  {
   "cell_type": "markdown",
   "metadata": {},
   "source": [
    "### Testing the Model"
   ]
  },
  {
   "cell_type": "code",
   "execution_count": 99,
   "metadata": {},
   "outputs": [
    {
     "name": "stdout",
     "output_type": "stream",
     "text": [
      "313/313 [==============================] - 2s 8ms/step - loss: 0.3403 - accuracy: 0.8747\n",
      "test loss, test acc: [0.34025049209594727, 0.8747000098228455]\n"
     ]
    }
   ],
   "source": [
    "results = model.evaluate(X_test, y_test)\n",
    "print(\"test loss, test acc:\", results)"
   ]
  },
  {
   "cell_type": "code",
   "execution_count": 100,
   "metadata": {},
   "outputs": [],
   "source": [
    "y_pred = model.predict(X_test)"
   ]
  },
  {
   "cell_type": "code",
   "execution_count": 101,
   "metadata": {},
   "outputs": [
    {
     "name": "stdout",
     "output_type": "stream",
     "text": [
      "(10000, 10)\n"
     ]
    }
   ],
   "source": [
    "print(y_pred.shape)"
   ]
  },
  {
   "cell_type": "code",
   "execution_count": 102,
   "metadata": {},
   "outputs": [
    {
     "name": "stdout",
     "output_type": "stream",
     "text": [
      "[3.7329876e-01 4.0217942e-12 4.5768793e-09 2.3463698e-09 6.2478167e-01\n",
      " 1.8632060e-03 1.7511477e-15 7.0946728e-11 5.6247427e-05 1.3341153e-07]\n"
     ]
    }
   ],
   "source": [
    "print(y_pred[0])"
   ]
  },
  {
   "cell_type": "code",
   "execution_count": 92,
   "metadata": {},
   "outputs": [],
   "source": [
    "from sklearn.metrics import confusion_matrix\n",
    "from sklearn.metrics import classification_report"
   ]
  },
  {
   "cell_type": "code",
   "execution_count": 103,
   "metadata": {},
   "outputs": [
    {
     "ename": "ValueError",
     "evalue": "Found input variables with inconsistent numbers of samples: [10000, 10]",
     "output_type": "error",
     "traceback": [
      "\u001b[0;31m---------------------------------------------------------------------------\u001b[0m",
      "\u001b[0;31mValueError\u001b[0m                                Traceback (most recent call last)",
      "\u001b[0;32m<ipython-input-103-37a031671a74>\u001b[0m in \u001b[0;36m<module>\u001b[0;34m\u001b[0m\n\u001b[0;32m----> 1\u001b[0;31m \u001b[0mprint\u001b[0m\u001b[0;34m(\u001b[0m\u001b[0mconfusion_matrix\u001b[0m\u001b[0;34m(\u001b[0m\u001b[0my_test\u001b[0m\u001b[0;34m,\u001b[0m \u001b[0my_pred\u001b[0m\u001b[0;34m.\u001b[0m\u001b[0margmax\u001b[0m\u001b[0;34m(\u001b[0m\u001b[0maxis\u001b[0m\u001b[0;34m=\u001b[0m\u001b[0;36m0\u001b[0m\u001b[0;34m)\u001b[0m\u001b[0;34m)\u001b[0m\u001b[0;34m)\u001b[0m\u001b[0;34m\u001b[0m\u001b[0;34m\u001b[0m\u001b[0m\n\u001b[0m\u001b[1;32m      2\u001b[0m \u001b[0mprint\u001b[0m\u001b[0;34m(\u001b[0m\u001b[0mclassification_report\u001b[0m\u001b[0;34m(\u001b[0m\u001b[0my_test\u001b[0m\u001b[0;34m,\u001b[0m \u001b[0my_pred\u001b[0m\u001b[0;34m.\u001b[0m\u001b[0margmax\u001b[0m\u001b[0;34m(\u001b[0m\u001b[0maxis\u001b[0m\u001b[0;34m=\u001b[0m\u001b[0;36m0\u001b[0m\u001b[0;34m)\u001b[0m\u001b[0;34m)\u001b[0m\u001b[0;34m)\u001b[0m\u001b[0;34m\u001b[0m\u001b[0;34m\u001b[0m\u001b[0m\n",
      "\u001b[0;32m~/miniconda3/lib/python3.7/site-packages/sklearn/utils/validation.py\u001b[0m in \u001b[0;36minner_f\u001b[0;34m(*args, **kwargs)\u001b[0m\n\u001b[1;32m     70\u001b[0m                           FutureWarning)\n\u001b[1;32m     71\u001b[0m         \u001b[0mkwargs\u001b[0m\u001b[0;34m.\u001b[0m\u001b[0mupdate\u001b[0m\u001b[0;34m(\u001b[0m\u001b[0;34m{\u001b[0m\u001b[0mk\u001b[0m\u001b[0;34m:\u001b[0m \u001b[0marg\u001b[0m \u001b[0;32mfor\u001b[0m \u001b[0mk\u001b[0m\u001b[0;34m,\u001b[0m \u001b[0marg\u001b[0m \u001b[0;32min\u001b[0m \u001b[0mzip\u001b[0m\u001b[0;34m(\u001b[0m\u001b[0msig\u001b[0m\u001b[0;34m.\u001b[0m\u001b[0mparameters\u001b[0m\u001b[0;34m,\u001b[0m \u001b[0margs\u001b[0m\u001b[0;34m)\u001b[0m\u001b[0;34m}\u001b[0m\u001b[0;34m)\u001b[0m\u001b[0;34m\u001b[0m\u001b[0;34m\u001b[0m\u001b[0m\n\u001b[0;32m---> 72\u001b[0;31m         \u001b[0;32mreturn\u001b[0m \u001b[0mf\u001b[0m\u001b[0;34m(\u001b[0m\u001b[0;34m**\u001b[0m\u001b[0mkwargs\u001b[0m\u001b[0;34m)\u001b[0m\u001b[0;34m\u001b[0m\u001b[0;34m\u001b[0m\u001b[0m\n\u001b[0m\u001b[1;32m     73\u001b[0m     \u001b[0;32mreturn\u001b[0m \u001b[0minner_f\u001b[0m\u001b[0;34m\u001b[0m\u001b[0;34m\u001b[0m\u001b[0m\n\u001b[1;32m     74\u001b[0m \u001b[0;34m\u001b[0m\u001b[0m\n",
      "\u001b[0;32m~/miniconda3/lib/python3.7/site-packages/sklearn/metrics/_classification.py\u001b[0m in \u001b[0;36mconfusion_matrix\u001b[0;34m(y_true, y_pred, labels, sample_weight, normalize)\u001b[0m\n\u001b[1;32m    274\u001b[0m \u001b[0;34m\u001b[0m\u001b[0m\n\u001b[1;32m    275\u001b[0m     \"\"\"\n\u001b[0;32m--> 276\u001b[0;31m     \u001b[0my_type\u001b[0m\u001b[0;34m,\u001b[0m \u001b[0my_true\u001b[0m\u001b[0;34m,\u001b[0m \u001b[0my_pred\u001b[0m \u001b[0;34m=\u001b[0m \u001b[0m_check_targets\u001b[0m\u001b[0;34m(\u001b[0m\u001b[0my_true\u001b[0m\u001b[0;34m,\u001b[0m \u001b[0my_pred\u001b[0m\u001b[0;34m)\u001b[0m\u001b[0;34m\u001b[0m\u001b[0;34m\u001b[0m\u001b[0m\n\u001b[0m\u001b[1;32m    277\u001b[0m     \u001b[0;32mif\u001b[0m \u001b[0my_type\u001b[0m \u001b[0;32mnot\u001b[0m \u001b[0;32min\u001b[0m \u001b[0;34m(\u001b[0m\u001b[0;34m\"binary\"\u001b[0m\u001b[0;34m,\u001b[0m \u001b[0;34m\"multiclass\"\u001b[0m\u001b[0;34m)\u001b[0m\u001b[0;34m:\u001b[0m\u001b[0;34m\u001b[0m\u001b[0;34m\u001b[0m\u001b[0m\n\u001b[1;32m    278\u001b[0m         \u001b[0;32mraise\u001b[0m \u001b[0mValueError\u001b[0m\u001b[0;34m(\u001b[0m\u001b[0;34m\"%s is not supported\"\u001b[0m \u001b[0;34m%\u001b[0m \u001b[0my_type\u001b[0m\u001b[0;34m)\u001b[0m\u001b[0;34m\u001b[0m\u001b[0;34m\u001b[0m\u001b[0m\n",
      "\u001b[0;32m~/miniconda3/lib/python3.7/site-packages/sklearn/metrics/_classification.py\u001b[0m in \u001b[0;36m_check_targets\u001b[0;34m(y_true, y_pred)\u001b[0m\n\u001b[1;32m     79\u001b[0m     \u001b[0my_pred\u001b[0m \u001b[0;34m:\u001b[0m \u001b[0marray\u001b[0m \u001b[0;32mor\u001b[0m \u001b[0mindicator\u001b[0m \u001b[0mmatrix\u001b[0m\u001b[0;34m\u001b[0m\u001b[0;34m\u001b[0m\u001b[0m\n\u001b[1;32m     80\u001b[0m     \"\"\"\n\u001b[0;32m---> 81\u001b[0;31m     \u001b[0mcheck_consistent_length\u001b[0m\u001b[0;34m(\u001b[0m\u001b[0my_true\u001b[0m\u001b[0;34m,\u001b[0m \u001b[0my_pred\u001b[0m\u001b[0;34m)\u001b[0m\u001b[0;34m\u001b[0m\u001b[0;34m\u001b[0m\u001b[0m\n\u001b[0m\u001b[1;32m     82\u001b[0m     \u001b[0mtype_true\u001b[0m \u001b[0;34m=\u001b[0m \u001b[0mtype_of_target\u001b[0m\u001b[0;34m(\u001b[0m\u001b[0my_true\u001b[0m\u001b[0;34m)\u001b[0m\u001b[0;34m\u001b[0m\u001b[0;34m\u001b[0m\u001b[0m\n\u001b[1;32m     83\u001b[0m     \u001b[0mtype_pred\u001b[0m \u001b[0;34m=\u001b[0m \u001b[0mtype_of_target\u001b[0m\u001b[0;34m(\u001b[0m\u001b[0my_pred\u001b[0m\u001b[0;34m)\u001b[0m\u001b[0;34m\u001b[0m\u001b[0;34m\u001b[0m\u001b[0m\n",
      "\u001b[0;32m~/miniconda3/lib/python3.7/site-packages/sklearn/utils/validation.py\u001b[0m in \u001b[0;36mcheck_consistent_length\u001b[0;34m(*arrays)\u001b[0m\n\u001b[1;32m    254\u001b[0m     \u001b[0;32mif\u001b[0m \u001b[0mlen\u001b[0m\u001b[0;34m(\u001b[0m\u001b[0muniques\u001b[0m\u001b[0;34m)\u001b[0m \u001b[0;34m>\u001b[0m \u001b[0;36m1\u001b[0m\u001b[0;34m:\u001b[0m\u001b[0;34m\u001b[0m\u001b[0;34m\u001b[0m\u001b[0m\n\u001b[1;32m    255\u001b[0m         raise ValueError(\"Found input variables with inconsistent numbers of\"\n\u001b[0;32m--> 256\u001b[0;31m                          \" samples: %r\" % [int(l) for l in lengths])\n\u001b[0m\u001b[1;32m    257\u001b[0m \u001b[0;34m\u001b[0m\u001b[0m\n\u001b[1;32m    258\u001b[0m \u001b[0;34m\u001b[0m\u001b[0m\n",
      "\u001b[0;31mValueError\u001b[0m: Found input variables with inconsistent numbers of samples: [10000, 10]"
     ]
    }
   ],
   "source": [
    "print(confusion_matrix(y_test, y_pred.argmax(axis=0)))\n",
    "print(classification_report(y_test, y_pred.argmax(axis=0)))"
   ]
  },
  {
   "cell_type": "code",
   "execution_count": 81,
   "metadata": {},
   "outputs": [
    {
     "data": {
      "image/png": "[encoded data removed]",
      "text/plain": [
       "<Figure size 432x288 with 2 Axes>"
      ]
     },
     "metadata": {
      "needs_background": "light"
     },
     "output_type": "display_data"
    }
   ],
   "source": [
    "data = getData(\"/home/asanka/Desktop/smartphone-EM-dataset-2020-11-23/apple-iphone-4s/calandar-app.cfile\")\n",
    "\n",
    "fig = plt.figure()\n",
    "pxx, freq, t, cax = plt.specgram(data, NFFT=1024, Fs=20e6, mode='magnitude')\n",
    "fig.colorbar(cax).set_label('Intensity [dB]')\n",
    "plt.xlabel(\"Time (s)\")\n",
    "plt.ylabel(\"Frequency (Hz)\")\n",
    "plt.show()"
   ]
  },
  {
   "cell_type": "markdown",
   "metadata": {},
   "source": [
    "### Saving the Model"
   ]
  },
  {
   "cell_type": "code",
   "execution_count": 90,
   "metadata": {},
   "outputs": [],
   "source": [
    "model.save(\"./1.Apple-iPhone-4S-Analysis.h5\")"
   ]
  },
  {
   "cell_type": "code",
   "execution_count": null,
   "metadata": {},
   "outputs": [],
   "source": []
  }
 ],
 "metadata": {
  "kernelspec": {
   "display_name": "Python 3",
   "language": "python",
   "name": "python3"
  },
  "language_info": {
   "codemirror_mode": {
    "name": "ipython",
    "version": 3
   },
   "file_extension": ".py",
   "mimetype": "text/x-python",
   "name": "python",
   "nbconvert_exporter": "python",
   "pygments_lexer": "ipython3",
   "version": "3.7.7"
  }
 },
 "nbformat": 4,
 "nbformat_minor": 4
}
